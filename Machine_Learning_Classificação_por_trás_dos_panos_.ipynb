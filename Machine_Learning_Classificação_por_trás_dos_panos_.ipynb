{
  "nbformat": 4,
  "nbformat_minor": 0,
  "metadata": {
    "colab": {
      "provenance": [],
      "authorship_tag": "ABX9TyMF4VH6GFu8w+gA92Sfn2VY",
      "include_colab_link": true
    },
    "kernelspec": {
      "name": "python3",
      "display_name": "Python 3"
    },
    "language_info": {
      "name": "python"
    }
  },
  "cells": [
    {
      "cell_type": "markdown",
      "metadata": {
        "id": "view-in-github",
        "colab_type": "text"
      },
      "source": [
        "<a href=\"https://colab.research.google.com/github/Ciro125/Alura/blob/main/Machine_Learning_Classifica%C3%A7%C3%A3o_por_tr%C3%A1s_dos_panos_.ipynb\" target=\"_parent\"><img src=\"https://colab.research.google.com/assets/colab-badge.svg\" alt=\"Open In Colab\"/></a>"
      ]
    },
    {
      "cell_type": "code",
      "execution_count": null,
      "metadata": {
        "colab": {
          "base_uri": "https://localhost:8080/"
        },
        "id": "cxbT6XZfKiUj",
        "outputId": "945f58c0-f003-46bc-f157-4c0293d41f71"
      },
      "outputs": [
        {
          "output_type": "execute_result",
          "data": {
            "text/plain": [
              "(7043, 18)"
            ]
          },
          "metadata": {},
          "execution_count": 196
        }
      ],
      "source": [
        "import pandas as pd\n",
        "\n",
        "dados = pd.read_csv(\"/content/custumer-churn.csv\")\n",
        "\n",
        "dados.shape"
      ]
    },
    {
      "cell_type": "code",
      "source": [
        "dados.head()"
      ],
      "metadata": {
        "colab": {
          "base_uri": "https://localhost:8080/",
          "height": 270
        },
        "id": "uqetiE37NC1B",
        "outputId": "ea087b08-a9af-4e6a-97f7-e3f5b179d5a7"
      },
      "execution_count": null,
      "outputs": [
        {
          "output_type": "execute_result",
          "data": {
            "text/plain": [
              "   Maior65Anos Conjuge Dependentes  MesesDeContrato TelefoneFixo  \\\n",
              "0            0     Sim         Nao                1          Nao   \n",
              "1            0     Nao         Nao               34          Sim   \n",
              "2            0     Nao         Nao                2          Sim   \n",
              "3            0     Nao         Nao               45          Nao   \n",
              "4            0     Nao         Nao                2          Sim   \n",
              "\n",
              "  VariasLinhasTelefonicas ServicoDeInternet SegurancaOnline BackupOnline  \\\n",
              "0    SemServicoTelefonico               DSL             Nao          Sim   \n",
              "1                     Nao               DSL             Sim          Nao   \n",
              "2                     Nao               DSL             Sim          Sim   \n",
              "3    SemServicoTelefonico               DSL             Sim          Nao   \n",
              "4                     Nao       FibraOptica             Nao          Nao   \n",
              "\n",
              "  SeguroNoDispositivo SuporteTecnico TVaCabo StreamingDeFilmes TipoDeContrato  \\\n",
              "0                 Nao            Nao     Nao               Nao    Mensalmente   \n",
              "1                 Sim            Nao     Nao               Nao          UmAno   \n",
              "2                 Nao            Nao     Nao               Nao    Mensalmente   \n",
              "3                 Sim            Sim     Nao               Nao          UmAno   \n",
              "4                 Nao            Nao     Nao               Nao    Mensalmente   \n",
              "\n",
              "  PagamentoOnline FormaDePagamento  ContaMensal Churn  \n",
              "0             Sim    ChequeDigital        29.85   Nao  \n",
              "1             Nao      ChequePapel        56.95   Nao  \n",
              "2             Sim      ChequePapel        53.85   Sim  \n",
              "3             Nao    DebitoEmConta        42.30   Nao  \n",
              "4             Sim    ChequeDigital        70.70   Sim  "
            ],
            "text/html": [
              "\n",
              "  <div id=\"df-a8e1ec64-bed4-4bdc-8224-290ce406d3b8\">\n",
              "    <div class=\"colab-df-container\">\n",
              "      <div>\n",
              "<style scoped>\n",
              "    .dataframe tbody tr th:only-of-type {\n",
              "        vertical-align: middle;\n",
              "    }\n",
              "\n",
              "    .dataframe tbody tr th {\n",
              "        vertical-align: top;\n",
              "    }\n",
              "\n",
              "    .dataframe thead th {\n",
              "        text-align: right;\n",
              "    }\n",
              "</style>\n",
              "<table border=\"1\" class=\"dataframe\">\n",
              "  <thead>\n",
              "    <tr style=\"text-align: right;\">\n",
              "      <th></th>\n",
              "      <th>Maior65Anos</th>\n",
              "      <th>Conjuge</th>\n",
              "      <th>Dependentes</th>\n",
              "      <th>MesesDeContrato</th>\n",
              "      <th>TelefoneFixo</th>\n",
              "      <th>VariasLinhasTelefonicas</th>\n",
              "      <th>ServicoDeInternet</th>\n",
              "      <th>SegurancaOnline</th>\n",
              "      <th>BackupOnline</th>\n",
              "      <th>SeguroNoDispositivo</th>\n",
              "      <th>SuporteTecnico</th>\n",
              "      <th>TVaCabo</th>\n",
              "      <th>StreamingDeFilmes</th>\n",
              "      <th>TipoDeContrato</th>\n",
              "      <th>PagamentoOnline</th>\n",
              "      <th>FormaDePagamento</th>\n",
              "      <th>ContaMensal</th>\n",
              "      <th>Churn</th>\n",
              "    </tr>\n",
              "  </thead>\n",
              "  <tbody>\n",
              "    <tr>\n",
              "      <th>0</th>\n",
              "      <td>0</td>\n",
              "      <td>Sim</td>\n",
              "      <td>Nao</td>\n",
              "      <td>1</td>\n",
              "      <td>Nao</td>\n",
              "      <td>SemServicoTelefonico</td>\n",
              "      <td>DSL</td>\n",
              "      <td>Nao</td>\n",
              "      <td>Sim</td>\n",
              "      <td>Nao</td>\n",
              "      <td>Nao</td>\n",
              "      <td>Nao</td>\n",
              "      <td>Nao</td>\n",
              "      <td>Mensalmente</td>\n",
              "      <td>Sim</td>\n",
              "      <td>ChequeDigital</td>\n",
              "      <td>29.85</td>\n",
              "      <td>Nao</td>\n",
              "    </tr>\n",
              "    <tr>\n",
              "      <th>1</th>\n",
              "      <td>0</td>\n",
              "      <td>Nao</td>\n",
              "      <td>Nao</td>\n",
              "      <td>34</td>\n",
              "      <td>Sim</td>\n",
              "      <td>Nao</td>\n",
              "      <td>DSL</td>\n",
              "      <td>Sim</td>\n",
              "      <td>Nao</td>\n",
              "      <td>Sim</td>\n",
              "      <td>Nao</td>\n",
              "      <td>Nao</td>\n",
              "      <td>Nao</td>\n",
              "      <td>UmAno</td>\n",
              "      <td>Nao</td>\n",
              "      <td>ChequePapel</td>\n",
              "      <td>56.95</td>\n",
              "      <td>Nao</td>\n",
              "    </tr>\n",
              "    <tr>\n",
              "      <th>2</th>\n",
              "      <td>0</td>\n",
              "      <td>Nao</td>\n",
              "      <td>Nao</td>\n",
              "      <td>2</td>\n",
              "      <td>Sim</td>\n",
              "      <td>Nao</td>\n",
              "      <td>DSL</td>\n",
              "      <td>Sim</td>\n",
              "      <td>Sim</td>\n",
              "      <td>Nao</td>\n",
              "      <td>Nao</td>\n",
              "      <td>Nao</td>\n",
              "      <td>Nao</td>\n",
              "      <td>Mensalmente</td>\n",
              "      <td>Sim</td>\n",
              "      <td>ChequePapel</td>\n",
              "      <td>53.85</td>\n",
              "      <td>Sim</td>\n",
              "    </tr>\n",
              "    <tr>\n",
              "      <th>3</th>\n",
              "      <td>0</td>\n",
              "      <td>Nao</td>\n",
              "      <td>Nao</td>\n",
              "      <td>45</td>\n",
              "      <td>Nao</td>\n",
              "      <td>SemServicoTelefonico</td>\n",
              "      <td>DSL</td>\n",
              "      <td>Sim</td>\n",
              "      <td>Nao</td>\n",
              "      <td>Sim</td>\n",
              "      <td>Sim</td>\n",
              "      <td>Nao</td>\n",
              "      <td>Nao</td>\n",
              "      <td>UmAno</td>\n",
              "      <td>Nao</td>\n",
              "      <td>DebitoEmConta</td>\n",
              "      <td>42.30</td>\n",
              "      <td>Nao</td>\n",
              "    </tr>\n",
              "    <tr>\n",
              "      <th>4</th>\n",
              "      <td>0</td>\n",
              "      <td>Nao</td>\n",
              "      <td>Nao</td>\n",
              "      <td>2</td>\n",
              "      <td>Sim</td>\n",
              "      <td>Nao</td>\n",
              "      <td>FibraOptica</td>\n",
              "      <td>Nao</td>\n",
              "      <td>Nao</td>\n",
              "      <td>Nao</td>\n",
              "      <td>Nao</td>\n",
              "      <td>Nao</td>\n",
              "      <td>Nao</td>\n",
              "      <td>Mensalmente</td>\n",
              "      <td>Sim</td>\n",
              "      <td>ChequeDigital</td>\n",
              "      <td>70.70</td>\n",
              "      <td>Sim</td>\n",
              "    </tr>\n",
              "  </tbody>\n",
              "</table>\n",
              "</div>\n",
              "      <button class=\"colab-df-convert\" onclick=\"convertToInteractive('df-a8e1ec64-bed4-4bdc-8224-290ce406d3b8')\"\n",
              "              title=\"Convert this dataframe to an interactive table.\"\n",
              "              style=\"display:none;\">\n",
              "        \n",
              "  <svg xmlns=\"http://www.w3.org/2000/svg\" height=\"24px\"viewBox=\"0 0 24 24\"\n",
              "       width=\"24px\">\n",
              "    <path d=\"M0 0h24v24H0V0z\" fill=\"none\"/>\n",
              "    <path d=\"M18.56 5.44l.94 2.06.94-2.06 2.06-.94-2.06-.94-.94-2.06-.94 2.06-2.06.94zm-11 1L8.5 8.5l.94-2.06 2.06-.94-2.06-.94L8.5 2.5l-.94 2.06-2.06.94zm10 10l.94 2.06.94-2.06 2.06-.94-2.06-.94-.94-2.06-.94 2.06-2.06.94z\"/><path d=\"M17.41 7.96l-1.37-1.37c-.4-.4-.92-.59-1.43-.59-.52 0-1.04.2-1.43.59L10.3 9.45l-7.72 7.72c-.78.78-.78 2.05 0 2.83L4 21.41c.39.39.9.59 1.41.59.51 0 1.02-.2 1.41-.59l7.78-7.78 2.81-2.81c.8-.78.8-2.07 0-2.86zM5.41 20L4 18.59l7.72-7.72 1.47 1.35L5.41 20z\"/>\n",
              "  </svg>\n",
              "      </button>\n",
              "      \n",
              "  <style>\n",
              "    .colab-df-container {\n",
              "      display:flex;\n",
              "      flex-wrap:wrap;\n",
              "      gap: 12px;\n",
              "    }\n",
              "\n",
              "    .colab-df-convert {\n",
              "      background-color: #E8F0FE;\n",
              "      border: none;\n",
              "      border-radius: 50%;\n",
              "      cursor: pointer;\n",
              "      display: none;\n",
              "      fill: #1967D2;\n",
              "      height: 32px;\n",
              "      padding: 0 0 0 0;\n",
              "      width: 32px;\n",
              "    }\n",
              "\n",
              "    .colab-df-convert:hover {\n",
              "      background-color: #E2EBFA;\n",
              "      box-shadow: 0px 1px 2px rgba(60, 64, 67, 0.3), 0px 1px 3px 1px rgba(60, 64, 67, 0.15);\n",
              "      fill: #174EA6;\n",
              "    }\n",
              "\n",
              "    [theme=dark] .colab-df-convert {\n",
              "      background-color: #3B4455;\n",
              "      fill: #D2E3FC;\n",
              "    }\n",
              "\n",
              "    [theme=dark] .colab-df-convert:hover {\n",
              "      background-color: #434B5C;\n",
              "      box-shadow: 0px 1px 3px 1px rgba(0, 0, 0, 0.15);\n",
              "      filter: drop-shadow(0px 1px 2px rgba(0, 0, 0, 0.3));\n",
              "      fill: #FFFFFF;\n",
              "    }\n",
              "  </style>\n",
              "\n",
              "      <script>\n",
              "        const buttonEl =\n",
              "          document.querySelector('#df-a8e1ec64-bed4-4bdc-8224-290ce406d3b8 button.colab-df-convert');\n",
              "        buttonEl.style.display =\n",
              "          google.colab.kernel.accessAllowed ? 'block' : 'none';\n",
              "\n",
              "        async function convertToInteractive(key) {\n",
              "          const element = document.querySelector('#df-a8e1ec64-bed4-4bdc-8224-290ce406d3b8');\n",
              "          const dataTable =\n",
              "            await google.colab.kernel.invokeFunction('convertToInteractive',\n",
              "                                                     [key], {});\n",
              "          if (!dataTable) return;\n",
              "\n",
              "          const docLinkHtml = 'Like what you see? Visit the ' +\n",
              "            '<a target=\"_blank\" href=https://colab.research.google.com/notebooks/data_table.ipynb>data table notebook</a>'\n",
              "            + ' to learn more about interactive tables.';\n",
              "          element.innerHTML = '';\n",
              "          dataTable['output_type'] = 'display_data';\n",
              "          await google.colab.output.renderOutput(dataTable, element);\n",
              "          const docLink = document.createElement('div');\n",
              "          docLink.innerHTML = docLinkHtml;\n",
              "          element.appendChild(docLink);\n",
              "        }\n",
              "      </script>\n",
              "    </div>\n",
              "  </div>\n",
              "  "
            ]
          },
          "metadata": {},
          "execution_count": 197
        }
      ]
    },
    {
      "cell_type": "code",
      "source": [
        "#Modificações de forma manual\n",
        "traducao_dic = {\"Sim\":1,\n",
        "                \"Nao\":0}\n",
        "\n",
        "dadosmodificados = dados [[\"Conjuge\",\"Dependentes\",\"TelefoneFixo\",\"PagamentoOnline\",\"Churn\"]].replace(traducao_dic)"
      ],
      "metadata": {
        "id": "o-xwJ3h6RHCg"
      },
      "execution_count": null,
      "outputs": []
    },
    {
      "cell_type": "code",
      "source": [
        "#Transformação pelo Get Dummies\n",
        "dummie_dados = pd.get_dummies(dados.drop([\"Conjuge\",\"Dependentes\",\"TelefoneFixo\",\"PagamentoOnline\",\"Churn\"],\n",
        "                                         axis=1))\n",
        "\n",
        "#Junção de dados transformados com os que já tinhamos\n",
        "dados_final = pd.concat([dadosmodificados, dummie_dados], axis=1)\n",
        "\n",
        "dados_final.head()"
      ],
      "metadata": {
        "colab": {
          "base_uri": "https://localhost:8080/",
          "height": 270
        },
        "id": "blRaOC6qcNbK",
        "outputId": "a21728d0-bad6-4fd3-c7f2-684c64a554f5"
      },
      "execution_count": null,
      "outputs": [
        {
          "output_type": "execute_result",
          "data": {
            "text/plain": [
              "   Conjuge  Dependentes  TelefoneFixo  PagamentoOnline  Churn  Maior65Anos  \\\n",
              "0        1            0             0                1      0            0   \n",
              "1        0            0             1                0      0            0   \n",
              "2        0            0             1                1      1            0   \n",
              "3        0            0             0                0      0            0   \n",
              "4        0            0             1                1      1            0   \n",
              "\n",
              "   MesesDeContrato  ContaMensal  VariasLinhasTelefonicas_Nao  \\\n",
              "0                1        29.85                            0   \n",
              "1               34        56.95                            1   \n",
              "2                2        53.85                            1   \n",
              "3               45        42.30                            0   \n",
              "4                2        70.70                            1   \n",
              "\n",
              "   VariasLinhasTelefonicas_SemServicoTelefonico  VariasLinhasTelefonicas_Sim  \\\n",
              "0                                             1                            0   \n",
              "1                                             0                            0   \n",
              "2                                             0                            0   \n",
              "3                                             1                            0   \n",
              "4                                             0                            0   \n",
              "\n",
              "   ServicoDeInternet_DSL  ServicoDeInternet_FibraOptica  \\\n",
              "0                      1                              0   \n",
              "1                      1                              0   \n",
              "2                      1                              0   \n",
              "3                      1                              0   \n",
              "4                      0                              1   \n",
              "\n",
              "   ServicoDeInternet_Nao  SegurancaOnline_Nao  \\\n",
              "0                      0                    1   \n",
              "1                      0                    0   \n",
              "2                      0                    0   \n",
              "3                      0                    0   \n",
              "4                      0                    1   \n",
              "\n",
              "   SegurancaOnline_SemServicoDeInternet  SegurancaOnline_Sim  \\\n",
              "0                                     0                    0   \n",
              "1                                     0                    1   \n",
              "2                                     0                    1   \n",
              "3                                     0                    1   \n",
              "4                                     0                    0   \n",
              "\n",
              "   BackupOnline_Nao  BackupOnline_SemServicoDeInternet  BackupOnline_Sim  \\\n",
              "0                 0                                  0                 1   \n",
              "1                 1                                  0                 0   \n",
              "2                 0                                  0                 1   \n",
              "3                 1                                  0                 0   \n",
              "4                 1                                  0                 0   \n",
              "\n",
              "   SeguroNoDispositivo_Nao  SeguroNoDispositivo_SemServicoDeInternet  \\\n",
              "0                        1                                         0   \n",
              "1                        0                                         0   \n",
              "2                        1                                         0   \n",
              "3                        0                                         0   \n",
              "4                        1                                         0   \n",
              "\n",
              "   SeguroNoDispositivo_Sim  SuporteTecnico_Nao  \\\n",
              "0                        0                   1   \n",
              "1                        1                   1   \n",
              "2                        0                   1   \n",
              "3                        1                   0   \n",
              "4                        0                   1   \n",
              "\n",
              "   SuporteTecnico_SemServicoDeInternet  SuporteTecnico_Sim  TVaCabo_Nao  \\\n",
              "0                                    0                   0            1   \n",
              "1                                    0                   0            1   \n",
              "2                                    0                   0            1   \n",
              "3                                    0                   1            1   \n",
              "4                                    0                   0            1   \n",
              "\n",
              "   TVaCabo_SemServicoDeInternet  TVaCabo_Sim  StreamingDeFilmes_Nao  \\\n",
              "0                             0            0                      1   \n",
              "1                             0            0                      1   \n",
              "2                             0            0                      1   \n",
              "3                             0            0                      1   \n",
              "4                             0            0                      1   \n",
              "\n",
              "   StreamingDeFilmes_SemServicoDeInternet  StreamingDeFilmes_Sim  \\\n",
              "0                                       0                      0   \n",
              "1                                       0                      0   \n",
              "2                                       0                      0   \n",
              "3                                       0                      0   \n",
              "4                                       0                      0   \n",
              "\n",
              "   TipoDeContrato_DoisAnos  TipoDeContrato_Mensalmente  TipoDeContrato_UmAno  \\\n",
              "0                        0                           1                     0   \n",
              "1                        0                           0                     1   \n",
              "2                        0                           1                     0   \n",
              "3                        0                           0                     1   \n",
              "4                        0                           1                     0   \n",
              "\n",
              "   FormaDePagamento_CartaoDeCredito  FormaDePagamento_ChequeDigital  \\\n",
              "0                                 0                               1   \n",
              "1                                 0                               0   \n",
              "2                                 0                               0   \n",
              "3                                 0                               0   \n",
              "4                                 0                               1   \n",
              "\n",
              "   FormaDePagamento_ChequePapel  FormaDePagamento_DebitoEmConta  \n",
              "0                             0                               0  \n",
              "1                             1                               0  \n",
              "2                             1                               0  \n",
              "3                             0                               1  \n",
              "4                             0                               0  "
            ],
            "text/html": [
              "\n",
              "  <div id=\"df-9cd4b0b4-8b02-472b-8c7f-b0ede992e59b\">\n",
              "    <div class=\"colab-df-container\">\n",
              "      <div>\n",
              "<style scoped>\n",
              "    .dataframe tbody tr th:only-of-type {\n",
              "        vertical-align: middle;\n",
              "    }\n",
              "\n",
              "    .dataframe tbody tr th {\n",
              "        vertical-align: top;\n",
              "    }\n",
              "\n",
              "    .dataframe thead th {\n",
              "        text-align: right;\n",
              "    }\n",
              "</style>\n",
              "<table border=\"1\" class=\"dataframe\">\n",
              "  <thead>\n",
              "    <tr style=\"text-align: right;\">\n",
              "      <th></th>\n",
              "      <th>Conjuge</th>\n",
              "      <th>Dependentes</th>\n",
              "      <th>TelefoneFixo</th>\n",
              "      <th>PagamentoOnline</th>\n",
              "      <th>Churn</th>\n",
              "      <th>Maior65Anos</th>\n",
              "      <th>MesesDeContrato</th>\n",
              "      <th>ContaMensal</th>\n",
              "      <th>VariasLinhasTelefonicas_Nao</th>\n",
              "      <th>VariasLinhasTelefonicas_SemServicoTelefonico</th>\n",
              "      <th>VariasLinhasTelefonicas_Sim</th>\n",
              "      <th>ServicoDeInternet_DSL</th>\n",
              "      <th>ServicoDeInternet_FibraOptica</th>\n",
              "      <th>ServicoDeInternet_Nao</th>\n",
              "      <th>SegurancaOnline_Nao</th>\n",
              "      <th>SegurancaOnline_SemServicoDeInternet</th>\n",
              "      <th>SegurancaOnline_Sim</th>\n",
              "      <th>BackupOnline_Nao</th>\n",
              "      <th>BackupOnline_SemServicoDeInternet</th>\n",
              "      <th>BackupOnline_Sim</th>\n",
              "      <th>SeguroNoDispositivo_Nao</th>\n",
              "      <th>SeguroNoDispositivo_SemServicoDeInternet</th>\n",
              "      <th>SeguroNoDispositivo_Sim</th>\n",
              "      <th>SuporteTecnico_Nao</th>\n",
              "      <th>SuporteTecnico_SemServicoDeInternet</th>\n",
              "      <th>SuporteTecnico_Sim</th>\n",
              "      <th>TVaCabo_Nao</th>\n",
              "      <th>TVaCabo_SemServicoDeInternet</th>\n",
              "      <th>TVaCabo_Sim</th>\n",
              "      <th>StreamingDeFilmes_Nao</th>\n",
              "      <th>StreamingDeFilmes_SemServicoDeInternet</th>\n",
              "      <th>StreamingDeFilmes_Sim</th>\n",
              "      <th>TipoDeContrato_DoisAnos</th>\n",
              "      <th>TipoDeContrato_Mensalmente</th>\n",
              "      <th>TipoDeContrato_UmAno</th>\n",
              "      <th>FormaDePagamento_CartaoDeCredito</th>\n",
              "      <th>FormaDePagamento_ChequeDigital</th>\n",
              "      <th>FormaDePagamento_ChequePapel</th>\n",
              "      <th>FormaDePagamento_DebitoEmConta</th>\n",
              "    </tr>\n",
              "  </thead>\n",
              "  <tbody>\n",
              "    <tr>\n",
              "      <th>0</th>\n",
              "      <td>1</td>\n",
              "      <td>0</td>\n",
              "      <td>0</td>\n",
              "      <td>1</td>\n",
              "      <td>0</td>\n",
              "      <td>0</td>\n",
              "      <td>1</td>\n",
              "      <td>29.85</td>\n",
              "      <td>0</td>\n",
              "      <td>1</td>\n",
              "      <td>0</td>\n",
              "      <td>1</td>\n",
              "      <td>0</td>\n",
              "      <td>0</td>\n",
              "      <td>1</td>\n",
              "      <td>0</td>\n",
              "      <td>0</td>\n",
              "      <td>0</td>\n",
              "      <td>0</td>\n",
              "      <td>1</td>\n",
              "      <td>1</td>\n",
              "      <td>0</td>\n",
              "      <td>0</td>\n",
              "      <td>1</td>\n",
              "      <td>0</td>\n",
              "      <td>0</td>\n",
              "      <td>1</td>\n",
              "      <td>0</td>\n",
              "      <td>0</td>\n",
              "      <td>1</td>\n",
              "      <td>0</td>\n",
              "      <td>0</td>\n",
              "      <td>0</td>\n",
              "      <td>1</td>\n",
              "      <td>0</td>\n",
              "      <td>0</td>\n",
              "      <td>1</td>\n",
              "      <td>0</td>\n",
              "      <td>0</td>\n",
              "    </tr>\n",
              "    <tr>\n",
              "      <th>1</th>\n",
              "      <td>0</td>\n",
              "      <td>0</td>\n",
              "      <td>1</td>\n",
              "      <td>0</td>\n",
              "      <td>0</td>\n",
              "      <td>0</td>\n",
              "      <td>34</td>\n",
              "      <td>56.95</td>\n",
              "      <td>1</td>\n",
              "      <td>0</td>\n",
              "      <td>0</td>\n",
              "      <td>1</td>\n",
              "      <td>0</td>\n",
              "      <td>0</td>\n",
              "      <td>0</td>\n",
              "      <td>0</td>\n",
              "      <td>1</td>\n",
              "      <td>1</td>\n",
              "      <td>0</td>\n",
              "      <td>0</td>\n",
              "      <td>0</td>\n",
              "      <td>0</td>\n",
              "      <td>1</td>\n",
              "      <td>1</td>\n",
              "      <td>0</td>\n",
              "      <td>0</td>\n",
              "      <td>1</td>\n",
              "      <td>0</td>\n",
              "      <td>0</td>\n",
              "      <td>1</td>\n",
              "      <td>0</td>\n",
              "      <td>0</td>\n",
              "      <td>0</td>\n",
              "      <td>0</td>\n",
              "      <td>1</td>\n",
              "      <td>0</td>\n",
              "      <td>0</td>\n",
              "      <td>1</td>\n",
              "      <td>0</td>\n",
              "    </tr>\n",
              "    <tr>\n",
              "      <th>2</th>\n",
              "      <td>0</td>\n",
              "      <td>0</td>\n",
              "      <td>1</td>\n",
              "      <td>1</td>\n",
              "      <td>1</td>\n",
              "      <td>0</td>\n",
              "      <td>2</td>\n",
              "      <td>53.85</td>\n",
              "      <td>1</td>\n",
              "      <td>0</td>\n",
              "      <td>0</td>\n",
              "      <td>1</td>\n",
              "      <td>0</td>\n",
              "      <td>0</td>\n",
              "      <td>0</td>\n",
              "      <td>0</td>\n",
              "      <td>1</td>\n",
              "      <td>0</td>\n",
              "      <td>0</td>\n",
              "      <td>1</td>\n",
              "      <td>1</td>\n",
              "      <td>0</td>\n",
              "      <td>0</td>\n",
              "      <td>1</td>\n",
              "      <td>0</td>\n",
              "      <td>0</td>\n",
              "      <td>1</td>\n",
              "      <td>0</td>\n",
              "      <td>0</td>\n",
              "      <td>1</td>\n",
              "      <td>0</td>\n",
              "      <td>0</td>\n",
              "      <td>0</td>\n",
              "      <td>1</td>\n",
              "      <td>0</td>\n",
              "      <td>0</td>\n",
              "      <td>0</td>\n",
              "      <td>1</td>\n",
              "      <td>0</td>\n",
              "    </tr>\n",
              "    <tr>\n",
              "      <th>3</th>\n",
              "      <td>0</td>\n",
              "      <td>0</td>\n",
              "      <td>0</td>\n",
              "      <td>0</td>\n",
              "      <td>0</td>\n",
              "      <td>0</td>\n",
              "      <td>45</td>\n",
              "      <td>42.30</td>\n",
              "      <td>0</td>\n",
              "      <td>1</td>\n",
              "      <td>0</td>\n",
              "      <td>1</td>\n",
              "      <td>0</td>\n",
              "      <td>0</td>\n",
              "      <td>0</td>\n",
              "      <td>0</td>\n",
              "      <td>1</td>\n",
              "      <td>1</td>\n",
              "      <td>0</td>\n",
              "      <td>0</td>\n",
              "      <td>0</td>\n",
              "      <td>0</td>\n",
              "      <td>1</td>\n",
              "      <td>0</td>\n",
              "      <td>0</td>\n",
              "      <td>1</td>\n",
              "      <td>1</td>\n",
              "      <td>0</td>\n",
              "      <td>0</td>\n",
              "      <td>1</td>\n",
              "      <td>0</td>\n",
              "      <td>0</td>\n",
              "      <td>0</td>\n",
              "      <td>0</td>\n",
              "      <td>1</td>\n",
              "      <td>0</td>\n",
              "      <td>0</td>\n",
              "      <td>0</td>\n",
              "      <td>1</td>\n",
              "    </tr>\n",
              "    <tr>\n",
              "      <th>4</th>\n",
              "      <td>0</td>\n",
              "      <td>0</td>\n",
              "      <td>1</td>\n",
              "      <td>1</td>\n",
              "      <td>1</td>\n",
              "      <td>0</td>\n",
              "      <td>2</td>\n",
              "      <td>70.70</td>\n",
              "      <td>1</td>\n",
              "      <td>0</td>\n",
              "      <td>0</td>\n",
              "      <td>0</td>\n",
              "      <td>1</td>\n",
              "      <td>0</td>\n",
              "      <td>1</td>\n",
              "      <td>0</td>\n",
              "      <td>0</td>\n",
              "      <td>1</td>\n",
              "      <td>0</td>\n",
              "      <td>0</td>\n",
              "      <td>1</td>\n",
              "      <td>0</td>\n",
              "      <td>0</td>\n",
              "      <td>1</td>\n",
              "      <td>0</td>\n",
              "      <td>0</td>\n",
              "      <td>1</td>\n",
              "      <td>0</td>\n",
              "      <td>0</td>\n",
              "      <td>1</td>\n",
              "      <td>0</td>\n",
              "      <td>0</td>\n",
              "      <td>0</td>\n",
              "      <td>1</td>\n",
              "      <td>0</td>\n",
              "      <td>0</td>\n",
              "      <td>1</td>\n",
              "      <td>0</td>\n",
              "      <td>0</td>\n",
              "    </tr>\n",
              "  </tbody>\n",
              "</table>\n",
              "</div>\n",
              "      <button class=\"colab-df-convert\" onclick=\"convertToInteractive('df-9cd4b0b4-8b02-472b-8c7f-b0ede992e59b')\"\n",
              "              title=\"Convert this dataframe to an interactive table.\"\n",
              "              style=\"display:none;\">\n",
              "        \n",
              "  <svg xmlns=\"http://www.w3.org/2000/svg\" height=\"24px\"viewBox=\"0 0 24 24\"\n",
              "       width=\"24px\">\n",
              "    <path d=\"M0 0h24v24H0V0z\" fill=\"none\"/>\n",
              "    <path d=\"M18.56 5.44l.94 2.06.94-2.06 2.06-.94-2.06-.94-.94-2.06-.94 2.06-2.06.94zm-11 1L8.5 8.5l.94-2.06 2.06-.94-2.06-.94L8.5 2.5l-.94 2.06-2.06.94zm10 10l.94 2.06.94-2.06 2.06-.94-2.06-.94-.94-2.06-.94 2.06-2.06.94z\"/><path d=\"M17.41 7.96l-1.37-1.37c-.4-.4-.92-.59-1.43-.59-.52 0-1.04.2-1.43.59L10.3 9.45l-7.72 7.72c-.78.78-.78 2.05 0 2.83L4 21.41c.39.39.9.59 1.41.59.51 0 1.02-.2 1.41-.59l7.78-7.78 2.81-2.81c.8-.78.8-2.07 0-2.86zM5.41 20L4 18.59l7.72-7.72 1.47 1.35L5.41 20z\"/>\n",
              "  </svg>\n",
              "      </button>\n",
              "      \n",
              "  <style>\n",
              "    .colab-df-container {\n",
              "      display:flex;\n",
              "      flex-wrap:wrap;\n",
              "      gap: 12px;\n",
              "    }\n",
              "\n",
              "    .colab-df-convert {\n",
              "      background-color: #E8F0FE;\n",
              "      border: none;\n",
              "      border-radius: 50%;\n",
              "      cursor: pointer;\n",
              "      display: none;\n",
              "      fill: #1967D2;\n",
              "      height: 32px;\n",
              "      padding: 0 0 0 0;\n",
              "      width: 32px;\n",
              "    }\n",
              "\n",
              "    .colab-df-convert:hover {\n",
              "      background-color: #E2EBFA;\n",
              "      box-shadow: 0px 1px 2px rgba(60, 64, 67, 0.3), 0px 1px 3px 1px rgba(60, 64, 67, 0.15);\n",
              "      fill: #174EA6;\n",
              "    }\n",
              "\n",
              "    [theme=dark] .colab-df-convert {\n",
              "      background-color: #3B4455;\n",
              "      fill: #D2E3FC;\n",
              "    }\n",
              "\n",
              "    [theme=dark] .colab-df-convert:hover {\n",
              "      background-color: #434B5C;\n",
              "      box-shadow: 0px 1px 3px 1px rgba(0, 0, 0, 0.15);\n",
              "      filter: drop-shadow(0px 1px 2px rgba(0, 0, 0, 0.3));\n",
              "      fill: #FFFFFF;\n",
              "    }\n",
              "  </style>\n",
              "\n",
              "      <script>\n",
              "        const buttonEl =\n",
              "          document.querySelector('#df-9cd4b0b4-8b02-472b-8c7f-b0ede992e59b button.colab-df-convert');\n",
              "        buttonEl.style.display =\n",
              "          google.colab.kernel.accessAllowed ? 'block' : 'none';\n",
              "\n",
              "        async function convertToInteractive(key) {\n",
              "          const element = document.querySelector('#df-9cd4b0b4-8b02-472b-8c7f-b0ede992e59b');\n",
              "          const dataTable =\n",
              "            await google.colab.kernel.invokeFunction('convertToInteractive',\n",
              "                                                     [key], {});\n",
              "          if (!dataTable) return;\n",
              "\n",
              "          const docLinkHtml = 'Like what you see? Visit the ' +\n",
              "            '<a target=\"_blank\" href=https://colab.research.google.com/notebooks/data_table.ipynb>data table notebook</a>'\n",
              "            + ' to learn more about interactive tables.';\n",
              "          element.innerHTML = '';\n",
              "          dataTable['output_type'] = 'display_data';\n",
              "          await google.colab.output.renderOutput(dataTable, element);\n",
              "          const docLink = document.createElement('div');\n",
              "          docLink.innerHTML = docLinkHtml;\n",
              "          element.appendChild(docLink);\n",
              "        }\n",
              "      </script>\n",
              "    </div>\n",
              "  </div>\n",
              "  "
            ]
          },
          "metadata": {},
          "execution_count": 199
        }
      ]
    },
    {
      "cell_type": "code",
      "source": [
        "dados_final.shape"
      ],
      "metadata": {
        "colab": {
          "base_uri": "https://localhost:8080/"
        },
        "id": "Yx3NAC5bdIEc",
        "outputId": "318535d5-c737-4735-93f5-d431d51e73a9"
      },
      "execution_count": null,
      "outputs": [
        {
          "output_type": "execute_result",
          "data": {
            "text/plain": [
              "(7043, 39)"
            ]
          },
          "metadata": {},
          "execution_count": 200
        }
      ]
    },
    {
      "cell_type": "code",
      "source": [
        "#Dica para ver todas as colunas. \n",
        "pd.set_option(\"display.max_columns\",39)"
      ],
      "metadata": {
        "id": "hO7rr-JidWC6"
      },
      "execution_count": null,
      "outputs": []
    },
    {
      "cell_type": "code",
      "source": [
        "dados_final.head()"
      ],
      "metadata": {
        "colab": {
          "base_uri": "https://localhost:8080/",
          "height": 270
        },
        "id": "9ya-vIM4eSAN",
        "outputId": "1023ec58-958c-4ada-b7ba-c1f3cb3703a7"
      },
      "execution_count": null,
      "outputs": [
        {
          "output_type": "execute_result",
          "data": {
            "text/plain": [
              "   Conjuge  Dependentes  TelefoneFixo  PagamentoOnline  Churn  Maior65Anos  \\\n",
              "0        1            0             0                1      0            0   \n",
              "1        0            0             1                0      0            0   \n",
              "2        0            0             1                1      1            0   \n",
              "3        0            0             0                0      0            0   \n",
              "4        0            0             1                1      1            0   \n",
              "\n",
              "   MesesDeContrato  ContaMensal  VariasLinhasTelefonicas_Nao  \\\n",
              "0                1        29.85                            0   \n",
              "1               34        56.95                            1   \n",
              "2                2        53.85                            1   \n",
              "3               45        42.30                            0   \n",
              "4                2        70.70                            1   \n",
              "\n",
              "   VariasLinhasTelefonicas_SemServicoTelefonico  VariasLinhasTelefonicas_Sim  \\\n",
              "0                                             1                            0   \n",
              "1                                             0                            0   \n",
              "2                                             0                            0   \n",
              "3                                             1                            0   \n",
              "4                                             0                            0   \n",
              "\n",
              "   ServicoDeInternet_DSL  ServicoDeInternet_FibraOptica  \\\n",
              "0                      1                              0   \n",
              "1                      1                              0   \n",
              "2                      1                              0   \n",
              "3                      1                              0   \n",
              "4                      0                              1   \n",
              "\n",
              "   ServicoDeInternet_Nao  SegurancaOnline_Nao  \\\n",
              "0                      0                    1   \n",
              "1                      0                    0   \n",
              "2                      0                    0   \n",
              "3                      0                    0   \n",
              "4                      0                    1   \n",
              "\n",
              "   SegurancaOnline_SemServicoDeInternet  SegurancaOnline_Sim  \\\n",
              "0                                     0                    0   \n",
              "1                                     0                    1   \n",
              "2                                     0                    1   \n",
              "3                                     0                    1   \n",
              "4                                     0                    0   \n",
              "\n",
              "   BackupOnline_Nao  BackupOnline_SemServicoDeInternet  BackupOnline_Sim  \\\n",
              "0                 0                                  0                 1   \n",
              "1                 1                                  0                 0   \n",
              "2                 0                                  0                 1   \n",
              "3                 1                                  0                 0   \n",
              "4                 1                                  0                 0   \n",
              "\n",
              "   SeguroNoDispositivo_Nao  SeguroNoDispositivo_SemServicoDeInternet  \\\n",
              "0                        1                                         0   \n",
              "1                        0                                         0   \n",
              "2                        1                                         0   \n",
              "3                        0                                         0   \n",
              "4                        1                                         0   \n",
              "\n",
              "   SeguroNoDispositivo_Sim  SuporteTecnico_Nao  \\\n",
              "0                        0                   1   \n",
              "1                        1                   1   \n",
              "2                        0                   1   \n",
              "3                        1                   0   \n",
              "4                        0                   1   \n",
              "\n",
              "   SuporteTecnico_SemServicoDeInternet  SuporteTecnico_Sim  TVaCabo_Nao  \\\n",
              "0                                    0                   0            1   \n",
              "1                                    0                   0            1   \n",
              "2                                    0                   0            1   \n",
              "3                                    0                   1            1   \n",
              "4                                    0                   0            1   \n",
              "\n",
              "   TVaCabo_SemServicoDeInternet  TVaCabo_Sim  StreamingDeFilmes_Nao  \\\n",
              "0                             0            0                      1   \n",
              "1                             0            0                      1   \n",
              "2                             0            0                      1   \n",
              "3                             0            0                      1   \n",
              "4                             0            0                      1   \n",
              "\n",
              "   StreamingDeFilmes_SemServicoDeInternet  StreamingDeFilmes_Sim  \\\n",
              "0                                       0                      0   \n",
              "1                                       0                      0   \n",
              "2                                       0                      0   \n",
              "3                                       0                      0   \n",
              "4                                       0                      0   \n",
              "\n",
              "   TipoDeContrato_DoisAnos  TipoDeContrato_Mensalmente  TipoDeContrato_UmAno  \\\n",
              "0                        0                           1                     0   \n",
              "1                        0                           0                     1   \n",
              "2                        0                           1                     0   \n",
              "3                        0                           0                     1   \n",
              "4                        0                           1                     0   \n",
              "\n",
              "   FormaDePagamento_CartaoDeCredito  FormaDePagamento_ChequeDigital  \\\n",
              "0                                 0                               1   \n",
              "1                                 0                               0   \n",
              "2                                 0                               0   \n",
              "3                                 0                               0   \n",
              "4                                 0                               1   \n",
              "\n",
              "   FormaDePagamento_ChequePapel  FormaDePagamento_DebitoEmConta  \n",
              "0                             0                               0  \n",
              "1                             1                               0  \n",
              "2                             1                               0  \n",
              "3                             0                               1  \n",
              "4                             0                               0  "
            ],
            "text/html": [
              "\n",
              "  <div id=\"df-0b8d50e3-996d-46a0-b03f-525609373aa4\">\n",
              "    <div class=\"colab-df-container\">\n",
              "      <div>\n",
              "<style scoped>\n",
              "    .dataframe tbody tr th:only-of-type {\n",
              "        vertical-align: middle;\n",
              "    }\n",
              "\n",
              "    .dataframe tbody tr th {\n",
              "        vertical-align: top;\n",
              "    }\n",
              "\n",
              "    .dataframe thead th {\n",
              "        text-align: right;\n",
              "    }\n",
              "</style>\n",
              "<table border=\"1\" class=\"dataframe\">\n",
              "  <thead>\n",
              "    <tr style=\"text-align: right;\">\n",
              "      <th></th>\n",
              "      <th>Conjuge</th>\n",
              "      <th>Dependentes</th>\n",
              "      <th>TelefoneFixo</th>\n",
              "      <th>PagamentoOnline</th>\n",
              "      <th>Churn</th>\n",
              "      <th>Maior65Anos</th>\n",
              "      <th>MesesDeContrato</th>\n",
              "      <th>ContaMensal</th>\n",
              "      <th>VariasLinhasTelefonicas_Nao</th>\n",
              "      <th>VariasLinhasTelefonicas_SemServicoTelefonico</th>\n",
              "      <th>VariasLinhasTelefonicas_Sim</th>\n",
              "      <th>ServicoDeInternet_DSL</th>\n",
              "      <th>ServicoDeInternet_FibraOptica</th>\n",
              "      <th>ServicoDeInternet_Nao</th>\n",
              "      <th>SegurancaOnline_Nao</th>\n",
              "      <th>SegurancaOnline_SemServicoDeInternet</th>\n",
              "      <th>SegurancaOnline_Sim</th>\n",
              "      <th>BackupOnline_Nao</th>\n",
              "      <th>BackupOnline_SemServicoDeInternet</th>\n",
              "      <th>BackupOnline_Sim</th>\n",
              "      <th>SeguroNoDispositivo_Nao</th>\n",
              "      <th>SeguroNoDispositivo_SemServicoDeInternet</th>\n",
              "      <th>SeguroNoDispositivo_Sim</th>\n",
              "      <th>SuporteTecnico_Nao</th>\n",
              "      <th>SuporteTecnico_SemServicoDeInternet</th>\n",
              "      <th>SuporteTecnico_Sim</th>\n",
              "      <th>TVaCabo_Nao</th>\n",
              "      <th>TVaCabo_SemServicoDeInternet</th>\n",
              "      <th>TVaCabo_Sim</th>\n",
              "      <th>StreamingDeFilmes_Nao</th>\n",
              "      <th>StreamingDeFilmes_SemServicoDeInternet</th>\n",
              "      <th>StreamingDeFilmes_Sim</th>\n",
              "      <th>TipoDeContrato_DoisAnos</th>\n",
              "      <th>TipoDeContrato_Mensalmente</th>\n",
              "      <th>TipoDeContrato_UmAno</th>\n",
              "      <th>FormaDePagamento_CartaoDeCredito</th>\n",
              "      <th>FormaDePagamento_ChequeDigital</th>\n",
              "      <th>FormaDePagamento_ChequePapel</th>\n",
              "      <th>FormaDePagamento_DebitoEmConta</th>\n",
              "    </tr>\n",
              "  </thead>\n",
              "  <tbody>\n",
              "    <tr>\n",
              "      <th>0</th>\n",
              "      <td>1</td>\n",
              "      <td>0</td>\n",
              "      <td>0</td>\n",
              "      <td>1</td>\n",
              "      <td>0</td>\n",
              "      <td>0</td>\n",
              "      <td>1</td>\n",
              "      <td>29.85</td>\n",
              "      <td>0</td>\n",
              "      <td>1</td>\n",
              "      <td>0</td>\n",
              "      <td>1</td>\n",
              "      <td>0</td>\n",
              "      <td>0</td>\n",
              "      <td>1</td>\n",
              "      <td>0</td>\n",
              "      <td>0</td>\n",
              "      <td>0</td>\n",
              "      <td>0</td>\n",
              "      <td>1</td>\n",
              "      <td>1</td>\n",
              "      <td>0</td>\n",
              "      <td>0</td>\n",
              "      <td>1</td>\n",
              "      <td>0</td>\n",
              "      <td>0</td>\n",
              "      <td>1</td>\n",
              "      <td>0</td>\n",
              "      <td>0</td>\n",
              "      <td>1</td>\n",
              "      <td>0</td>\n",
              "      <td>0</td>\n",
              "      <td>0</td>\n",
              "      <td>1</td>\n",
              "      <td>0</td>\n",
              "      <td>0</td>\n",
              "      <td>1</td>\n",
              "      <td>0</td>\n",
              "      <td>0</td>\n",
              "    </tr>\n",
              "    <tr>\n",
              "      <th>1</th>\n",
              "      <td>0</td>\n",
              "      <td>0</td>\n",
              "      <td>1</td>\n",
              "      <td>0</td>\n",
              "      <td>0</td>\n",
              "      <td>0</td>\n",
              "      <td>34</td>\n",
              "      <td>56.95</td>\n",
              "      <td>1</td>\n",
              "      <td>0</td>\n",
              "      <td>0</td>\n",
              "      <td>1</td>\n",
              "      <td>0</td>\n",
              "      <td>0</td>\n",
              "      <td>0</td>\n",
              "      <td>0</td>\n",
              "      <td>1</td>\n",
              "      <td>1</td>\n",
              "      <td>0</td>\n",
              "      <td>0</td>\n",
              "      <td>0</td>\n",
              "      <td>0</td>\n",
              "      <td>1</td>\n",
              "      <td>1</td>\n",
              "      <td>0</td>\n",
              "      <td>0</td>\n",
              "      <td>1</td>\n",
              "      <td>0</td>\n",
              "      <td>0</td>\n",
              "      <td>1</td>\n",
              "      <td>0</td>\n",
              "      <td>0</td>\n",
              "      <td>0</td>\n",
              "      <td>0</td>\n",
              "      <td>1</td>\n",
              "      <td>0</td>\n",
              "      <td>0</td>\n",
              "      <td>1</td>\n",
              "      <td>0</td>\n",
              "    </tr>\n",
              "    <tr>\n",
              "      <th>2</th>\n",
              "      <td>0</td>\n",
              "      <td>0</td>\n",
              "      <td>1</td>\n",
              "      <td>1</td>\n",
              "      <td>1</td>\n",
              "      <td>0</td>\n",
              "      <td>2</td>\n",
              "      <td>53.85</td>\n",
              "      <td>1</td>\n",
              "      <td>0</td>\n",
              "      <td>0</td>\n",
              "      <td>1</td>\n",
              "      <td>0</td>\n",
              "      <td>0</td>\n",
              "      <td>0</td>\n",
              "      <td>0</td>\n",
              "      <td>1</td>\n",
              "      <td>0</td>\n",
              "      <td>0</td>\n",
              "      <td>1</td>\n",
              "      <td>1</td>\n",
              "      <td>0</td>\n",
              "      <td>0</td>\n",
              "      <td>1</td>\n",
              "      <td>0</td>\n",
              "      <td>0</td>\n",
              "      <td>1</td>\n",
              "      <td>0</td>\n",
              "      <td>0</td>\n",
              "      <td>1</td>\n",
              "      <td>0</td>\n",
              "      <td>0</td>\n",
              "      <td>0</td>\n",
              "      <td>1</td>\n",
              "      <td>0</td>\n",
              "      <td>0</td>\n",
              "      <td>0</td>\n",
              "      <td>1</td>\n",
              "      <td>0</td>\n",
              "    </tr>\n",
              "    <tr>\n",
              "      <th>3</th>\n",
              "      <td>0</td>\n",
              "      <td>0</td>\n",
              "      <td>0</td>\n",
              "      <td>0</td>\n",
              "      <td>0</td>\n",
              "      <td>0</td>\n",
              "      <td>45</td>\n",
              "      <td>42.30</td>\n",
              "      <td>0</td>\n",
              "      <td>1</td>\n",
              "      <td>0</td>\n",
              "      <td>1</td>\n",
              "      <td>0</td>\n",
              "      <td>0</td>\n",
              "      <td>0</td>\n",
              "      <td>0</td>\n",
              "      <td>1</td>\n",
              "      <td>1</td>\n",
              "      <td>0</td>\n",
              "      <td>0</td>\n",
              "      <td>0</td>\n",
              "      <td>0</td>\n",
              "      <td>1</td>\n",
              "      <td>0</td>\n",
              "      <td>0</td>\n",
              "      <td>1</td>\n",
              "      <td>1</td>\n",
              "      <td>0</td>\n",
              "      <td>0</td>\n",
              "      <td>1</td>\n",
              "      <td>0</td>\n",
              "      <td>0</td>\n",
              "      <td>0</td>\n",
              "      <td>0</td>\n",
              "      <td>1</td>\n",
              "      <td>0</td>\n",
              "      <td>0</td>\n",
              "      <td>0</td>\n",
              "      <td>1</td>\n",
              "    </tr>\n",
              "    <tr>\n",
              "      <th>4</th>\n",
              "      <td>0</td>\n",
              "      <td>0</td>\n",
              "      <td>1</td>\n",
              "      <td>1</td>\n",
              "      <td>1</td>\n",
              "      <td>0</td>\n",
              "      <td>2</td>\n",
              "      <td>70.70</td>\n",
              "      <td>1</td>\n",
              "      <td>0</td>\n",
              "      <td>0</td>\n",
              "      <td>0</td>\n",
              "      <td>1</td>\n",
              "      <td>0</td>\n",
              "      <td>1</td>\n",
              "      <td>0</td>\n",
              "      <td>0</td>\n",
              "      <td>1</td>\n",
              "      <td>0</td>\n",
              "      <td>0</td>\n",
              "      <td>1</td>\n",
              "      <td>0</td>\n",
              "      <td>0</td>\n",
              "      <td>1</td>\n",
              "      <td>0</td>\n",
              "      <td>0</td>\n",
              "      <td>1</td>\n",
              "      <td>0</td>\n",
              "      <td>0</td>\n",
              "      <td>1</td>\n",
              "      <td>0</td>\n",
              "      <td>0</td>\n",
              "      <td>0</td>\n",
              "      <td>1</td>\n",
              "      <td>0</td>\n",
              "      <td>0</td>\n",
              "      <td>1</td>\n",
              "      <td>0</td>\n",
              "      <td>0</td>\n",
              "    </tr>\n",
              "  </tbody>\n",
              "</table>\n",
              "</div>\n",
              "      <button class=\"colab-df-convert\" onclick=\"convertToInteractive('df-0b8d50e3-996d-46a0-b03f-525609373aa4')\"\n",
              "              title=\"Convert this dataframe to an interactive table.\"\n",
              "              style=\"display:none;\">\n",
              "        \n",
              "  <svg xmlns=\"http://www.w3.org/2000/svg\" height=\"24px\"viewBox=\"0 0 24 24\"\n",
              "       width=\"24px\">\n",
              "    <path d=\"M0 0h24v24H0V0z\" fill=\"none\"/>\n",
              "    <path d=\"M18.56 5.44l.94 2.06.94-2.06 2.06-.94-2.06-.94-.94-2.06-.94 2.06-2.06.94zm-11 1L8.5 8.5l.94-2.06 2.06-.94-2.06-.94L8.5 2.5l-.94 2.06-2.06.94zm10 10l.94 2.06.94-2.06 2.06-.94-2.06-.94-.94-2.06-.94 2.06-2.06.94z\"/><path d=\"M17.41 7.96l-1.37-1.37c-.4-.4-.92-.59-1.43-.59-.52 0-1.04.2-1.43.59L10.3 9.45l-7.72 7.72c-.78.78-.78 2.05 0 2.83L4 21.41c.39.39.9.59 1.41.59.51 0 1.02-.2 1.41-.59l7.78-7.78 2.81-2.81c.8-.78.8-2.07 0-2.86zM5.41 20L4 18.59l7.72-7.72 1.47 1.35L5.41 20z\"/>\n",
              "  </svg>\n",
              "      </button>\n",
              "      \n",
              "  <style>\n",
              "    .colab-df-container {\n",
              "      display:flex;\n",
              "      flex-wrap:wrap;\n",
              "      gap: 12px;\n",
              "    }\n",
              "\n",
              "    .colab-df-convert {\n",
              "      background-color: #E8F0FE;\n",
              "      border: none;\n",
              "      border-radius: 50%;\n",
              "      cursor: pointer;\n",
              "      display: none;\n",
              "      fill: #1967D2;\n",
              "      height: 32px;\n",
              "      padding: 0 0 0 0;\n",
              "      width: 32px;\n",
              "    }\n",
              "\n",
              "    .colab-df-convert:hover {\n",
              "      background-color: #E2EBFA;\n",
              "      box-shadow: 0px 1px 2px rgba(60, 64, 67, 0.3), 0px 1px 3px 1px rgba(60, 64, 67, 0.15);\n",
              "      fill: #174EA6;\n",
              "    }\n",
              "\n",
              "    [theme=dark] .colab-df-convert {\n",
              "      background-color: #3B4455;\n",
              "      fill: #D2E3FC;\n",
              "    }\n",
              "\n",
              "    [theme=dark] .colab-df-convert:hover {\n",
              "      background-color: #434B5C;\n",
              "      box-shadow: 0px 1px 3px 1px rgba(0, 0, 0, 0.15);\n",
              "      filter: drop-shadow(0px 1px 2px rgba(0, 0, 0, 0.3));\n",
              "      fill: #FFFFFF;\n",
              "    }\n",
              "  </style>\n",
              "\n",
              "      <script>\n",
              "        const buttonEl =\n",
              "          document.querySelector('#df-0b8d50e3-996d-46a0-b03f-525609373aa4 button.colab-df-convert');\n",
              "        buttonEl.style.display =\n",
              "          google.colab.kernel.accessAllowed ? 'block' : 'none';\n",
              "\n",
              "        async function convertToInteractive(key) {\n",
              "          const element = document.querySelector('#df-0b8d50e3-996d-46a0-b03f-525609373aa4');\n",
              "          const dataTable =\n",
              "            await google.colab.kernel.invokeFunction('convertToInteractive',\n",
              "                                                     [key], {});\n",
              "          if (!dataTable) return;\n",
              "\n",
              "          const docLinkHtml = 'Like what you see? Visit the ' +\n",
              "            '<a target=\"_blank\" href=https://colab.research.google.com/notebooks/data_table.ipynb>data table notebook</a>'\n",
              "            + ' to learn more about interactive tables.';\n",
              "          element.innerHTML = '';\n",
              "          dataTable['output_type'] = 'display_data';\n",
              "          await google.colab.output.renderOutput(dataTable, element);\n",
              "          const docLink = document.createElement('div');\n",
              "          docLink.innerHTML = docLinkHtml;\n",
              "          element.appendChild(docLink);\n",
              "        }\n",
              "      </script>\n",
              "    </div>\n",
              "  </div>\n",
              "  "
            ]
          },
          "metadata": {},
          "execution_count": 202
        }
      ]
    },
    {
      "cell_type": "code",
      "source": [
        "Xmaria = [[0,0,1,1,0,0,39.90,1,0,0,0,1,0,1,0,0,0,0,1,1,1,0,0,1,0,1,0,0,0,0,1,0,0,1,0,0,0,1]]\n",
        "# Ymaria = ? "
      ],
      "metadata": {
        "id": "e4Om06A3eWqV"
      },
      "execution_count": null,
      "outputs": []
    },
    {
      "cell_type": "code",
      "source": [
        "import seaborn as sns\n",
        "%matplotlib inline\n",
        "\n",
        "ax = sns.countplot(x='Churn', data=dados_final)"
      ],
      "metadata": {
        "colab": {
          "base_uri": "https://localhost:8080/",
          "height": 449
        },
        "id": "tUkKBuuEgJWU",
        "outputId": "ee5e8fd7-bf25-4d11-d51c-f7df68a5fe10"
      },
      "execution_count": null,
      "outputs": [
        {
          "output_type": "display_data",
          "data": {
            "text/plain": [
              "<Figure size 640x480 with 1 Axes>"
            ],
            "image/png": "[encoded data removed]"
          },
          "metadata": {}
        }
      ]
    },
    {
      "cell_type": "code",
      "source": [
        "# Para podermos aplicar o SMOTE, devemos separar  os dados em variáveis características e resposta  \n",
        "\n",
        "X = dados_final.drop('Churn', axis = 1)\n",
        "y = dados_final['Churn']"
      ],
      "metadata": {
        "id": "oqwJudh_gvqv"
      },
      "execution_count": null,
      "outputs": []
    },
    {
      "cell_type": "code",
      "source": [
        "#Sobremostragem de dados. \n",
        "from imblearn.over_sampling import SMOTE\n",
        "\n",
        "smt = SMOTE(random_state=123)  # Instancia um objeto da classe SMOTE\n",
        "X, y = smt.fit_resample(X, y)  # Realiza a reamostragem do conjunto de dados"
      ],
      "metadata": {
        "id": "pF67gp42gwr7"
      },
      "execution_count": null,
      "outputs": []
    },
    {
      "cell_type": "code",
      "source": [
        "dados_final = pd.concat([X, y], axis=1)  # Concatena a variável target (y) com as features (X)\n",
        "\n",
        "# Verifica se o balanceamento e a concatenação estão corretos.\n",
        "dados_final.head(2)"
      ],
      "metadata": {
        "colab": {
          "base_uri": "https://localhost:8080/",
          "height": 176
        },
        "id": "qugOpocygzWk",
        "outputId": "46a1b3c4-37db-46ed-a8d8-d7e1269dce28"
      },
      "execution_count": null,
      "outputs": [
        {
          "output_type": "execute_result",
          "data": {
            "text/plain": [
              "   Conjuge  Dependentes  TelefoneFixo  PagamentoOnline  Maior65Anos  \\\n",
              "0        1            0             0                1            0   \n",
              "1        0            0             1                0            0   \n",
              "\n",
              "   MesesDeContrato  ContaMensal  VariasLinhasTelefonicas_Nao  \\\n",
              "0                1        29.85                            0   \n",
              "1               34        56.95                            1   \n",
              "\n",
              "   VariasLinhasTelefonicas_SemServicoTelefonico  VariasLinhasTelefonicas_Sim  \\\n",
              "0                                             1                            0   \n",
              "1                                             0                            0   \n",
              "\n",
              "   ServicoDeInternet_DSL  ServicoDeInternet_FibraOptica  \\\n",
              "0                      1                              0   \n",
              "1                      1                              0   \n",
              "\n",
              "   ServicoDeInternet_Nao  SegurancaOnline_Nao  \\\n",
              "0                      0                    1   \n",
              "1                      0                    0   \n",
              "\n",
              "   SegurancaOnline_SemServicoDeInternet  SegurancaOnline_Sim  \\\n",
              "0                                     0                    0   \n",
              "1                                     0                    1   \n",
              "\n",
              "   BackupOnline_Nao  BackupOnline_SemServicoDeInternet  BackupOnline_Sim  \\\n",
              "0                 0                                  0                 1   \n",
              "1                 1                                  0                 0   \n",
              "\n",
              "   SeguroNoDispositivo_Nao  SeguroNoDispositivo_SemServicoDeInternet  \\\n",
              "0                        1                                         0   \n",
              "1                        0                                         0   \n",
              "\n",
              "   SeguroNoDispositivo_Sim  SuporteTecnico_Nao  \\\n",
              "0                        0                   1   \n",
              "1                        1                   1   \n",
              "\n",
              "   SuporteTecnico_SemServicoDeInternet  SuporteTecnico_Sim  TVaCabo_Nao  \\\n",
              "0                                    0                   0            1   \n",
              "1                                    0                   0            1   \n",
              "\n",
              "   TVaCabo_SemServicoDeInternet  TVaCabo_Sim  StreamingDeFilmes_Nao  \\\n",
              "0                             0            0                      1   \n",
              "1                             0            0                      1   \n",
              "\n",
              "   StreamingDeFilmes_SemServicoDeInternet  StreamingDeFilmes_Sim  \\\n",
              "0                                       0                      0   \n",
              "1                                       0                      0   \n",
              "\n",
              "   TipoDeContrato_DoisAnos  TipoDeContrato_Mensalmente  TipoDeContrato_UmAno  \\\n",
              "0                        0                           1                     0   \n",
              "1                        0                           0                     1   \n",
              "\n",
              "   FormaDePagamento_CartaoDeCredito  FormaDePagamento_ChequeDigital  \\\n",
              "0                                 0                               1   \n",
              "1                                 0                               0   \n",
              "\n",
              "   FormaDePagamento_ChequePapel  FormaDePagamento_DebitoEmConta  Churn  \n",
              "0                             0                               0      0  \n",
              "1                             1                               0      0  "
            ],
            "text/html": [
              "\n",
              "  <div id=\"df-390e8b63-7aa5-4ce8-818e-651aebacbcd4\">\n",
              "    <div class=\"colab-df-container\">\n",
              "      <div>\n",
              "<style scoped>\n",
              "    .dataframe tbody tr th:only-of-type {\n",
              "        vertical-align: middle;\n",
              "    }\n",
              "\n",
              "    .dataframe tbody tr th {\n",
              "        vertical-align: top;\n",
              "    }\n",
              "\n",
              "    .dataframe thead th {\n",
              "        text-align: right;\n",
              "    }\n",
              "</style>\n",
              "<table border=\"1\" class=\"dataframe\">\n",
              "  <thead>\n",
              "    <tr style=\"text-align: right;\">\n",
              "      <th></th>\n",
              "      <th>Conjuge</th>\n",
              "      <th>Dependentes</th>\n",
              "      <th>TelefoneFixo</th>\n",
              "      <th>PagamentoOnline</th>\n",
              "      <th>Maior65Anos</th>\n",
              "      <th>MesesDeContrato</th>\n",
              "      <th>ContaMensal</th>\n",
              "      <th>VariasLinhasTelefonicas_Nao</th>\n",
              "      <th>VariasLinhasTelefonicas_SemServicoTelefonico</th>\n",
              "      <th>VariasLinhasTelefonicas_Sim</th>\n",
              "      <th>ServicoDeInternet_DSL</th>\n",
              "      <th>ServicoDeInternet_FibraOptica</th>\n",
              "      <th>ServicoDeInternet_Nao</th>\n",
              "      <th>SegurancaOnline_Nao</th>\n",
              "      <th>SegurancaOnline_SemServicoDeInternet</th>\n",
              "      <th>SegurancaOnline_Sim</th>\n",
              "      <th>BackupOnline_Nao</th>\n",
              "      <th>BackupOnline_SemServicoDeInternet</th>\n",
              "      <th>BackupOnline_Sim</th>\n",
              "      <th>SeguroNoDispositivo_Nao</th>\n",
              "      <th>SeguroNoDispositivo_SemServicoDeInternet</th>\n",
              "      <th>SeguroNoDispositivo_Sim</th>\n",
              "      <th>SuporteTecnico_Nao</th>\n",
              "      <th>SuporteTecnico_SemServicoDeInternet</th>\n",
              "      <th>SuporteTecnico_Sim</th>\n",
              "      <th>TVaCabo_Nao</th>\n",
              "      <th>TVaCabo_SemServicoDeInternet</th>\n",
              "      <th>TVaCabo_Sim</th>\n",
              "      <th>StreamingDeFilmes_Nao</th>\n",
              "      <th>StreamingDeFilmes_SemServicoDeInternet</th>\n",
              "      <th>StreamingDeFilmes_Sim</th>\n",
              "      <th>TipoDeContrato_DoisAnos</th>\n",
              "      <th>TipoDeContrato_Mensalmente</th>\n",
              "      <th>TipoDeContrato_UmAno</th>\n",
              "      <th>FormaDePagamento_CartaoDeCredito</th>\n",
              "      <th>FormaDePagamento_ChequeDigital</th>\n",
              "      <th>FormaDePagamento_ChequePapel</th>\n",
              "      <th>FormaDePagamento_DebitoEmConta</th>\n",
              "      <th>Churn</th>\n",
              "    </tr>\n",
              "  </thead>\n",
              "  <tbody>\n",
              "    <tr>\n",
              "      <th>0</th>\n",
              "      <td>1</td>\n",
              "      <td>0</td>\n",
              "      <td>0</td>\n",
              "      <td>1</td>\n",
              "      <td>0</td>\n",
              "      <td>1</td>\n",
              "      <td>29.85</td>\n",
              "      <td>0</td>\n",
              "      <td>1</td>\n",
              "      <td>0</td>\n",
              "      <td>1</td>\n",
              "      <td>0</td>\n",
              "      <td>0</td>\n",
              "      <td>1</td>\n",
              "      <td>0</td>\n",
              "      <td>0</td>\n",
              "      <td>0</td>\n",
              "      <td>0</td>\n",
              "      <td>1</td>\n",
              "      <td>1</td>\n",
              "      <td>0</td>\n",
              "      <td>0</td>\n",
              "      <td>1</td>\n",
              "      <td>0</td>\n",
              "      <td>0</td>\n",
              "      <td>1</td>\n",
              "      <td>0</td>\n",
              "      <td>0</td>\n",
              "      <td>1</td>\n",
              "      <td>0</td>\n",
              "      <td>0</td>\n",
              "      <td>0</td>\n",
              "      <td>1</td>\n",
              "      <td>0</td>\n",
              "      <td>0</td>\n",
              "      <td>1</td>\n",
              "      <td>0</td>\n",
              "      <td>0</td>\n",
              "      <td>0</td>\n",
              "    </tr>\n",
              "    <tr>\n",
              "      <th>1</th>\n",
              "      <td>0</td>\n",
              "      <td>0</td>\n",
              "      <td>1</td>\n",
              "      <td>0</td>\n",
              "      <td>0</td>\n",
              "      <td>34</td>\n",
              "      <td>56.95</td>\n",
              "      <td>1</td>\n",
              "      <td>0</td>\n",
              "      <td>0</td>\n",
              "      <td>1</td>\n",
              "      <td>0</td>\n",
              "      <td>0</td>\n",
              "      <td>0</td>\n",
              "      <td>0</td>\n",
              "      <td>1</td>\n",
              "      <td>1</td>\n",
              "      <td>0</td>\n",
              "      <td>0</td>\n",
              "      <td>0</td>\n",
              "      <td>0</td>\n",
              "      <td>1</td>\n",
              "      <td>1</td>\n",
              "      <td>0</td>\n",
              "      <td>0</td>\n",
              "      <td>1</td>\n",
              "      <td>0</td>\n",
              "      <td>0</td>\n",
              "      <td>1</td>\n",
              "      <td>0</td>\n",
              "      <td>0</td>\n",
              "      <td>0</td>\n",
              "      <td>0</td>\n",
              "      <td>1</td>\n",
              "      <td>0</td>\n",
              "      <td>0</td>\n",
              "      <td>1</td>\n",
              "      <td>0</td>\n",
              "      <td>0</td>\n",
              "    </tr>\n",
              "  </tbody>\n",
              "</table>\n",
              "</div>\n",
              "      <button class=\"colab-df-convert\" onclick=\"convertToInteractive('df-390e8b63-7aa5-4ce8-818e-651aebacbcd4')\"\n",
              "              title=\"Convert this dataframe to an interactive table.\"\n",
              "              style=\"display:none;\">\n",
              "        \n",
              "  <svg xmlns=\"http://www.w3.org/2000/svg\" height=\"24px\"viewBox=\"0 0 24 24\"\n",
              "       width=\"24px\">\n",
              "    <path d=\"M0 0h24v24H0V0z\" fill=\"none\"/>\n",
              "    <path d=\"M18.56 5.44l.94 2.06.94-2.06 2.06-.94-2.06-.94-.94-2.06-.94 2.06-2.06.94zm-11 1L8.5 8.5l.94-2.06 2.06-.94-2.06-.94L8.5 2.5l-.94 2.06-2.06.94zm10 10l.94 2.06.94-2.06 2.06-.94-2.06-.94-.94-2.06-.94 2.06-2.06.94z\"/><path d=\"M17.41 7.96l-1.37-1.37c-.4-.4-.92-.59-1.43-.59-.52 0-1.04.2-1.43.59L10.3 9.45l-7.72 7.72c-.78.78-.78 2.05 0 2.83L4 21.41c.39.39.9.59 1.41.59.51 0 1.02-.2 1.41-.59l7.78-7.78 2.81-2.81c.8-.78.8-2.07 0-2.86zM5.41 20L4 18.59l7.72-7.72 1.47 1.35L5.41 20z\"/>\n",
              "  </svg>\n",
              "      </button>\n",
              "      \n",
              "  <style>\n",
              "    .colab-df-container {\n",
              "      display:flex;\n",
              "      flex-wrap:wrap;\n",
              "      gap: 12px;\n",
              "    }\n",
              "\n",
              "    .colab-df-convert {\n",
              "      background-color: #E8F0FE;\n",
              "      border: none;\n",
              "      border-radius: 50%;\n",
              "      cursor: pointer;\n",
              "      display: none;\n",
              "      fill: #1967D2;\n",
              "      height: 32px;\n",
              "      padding: 0 0 0 0;\n",
              "      width: 32px;\n",
              "    }\n",
              "\n",
              "    .colab-df-convert:hover {\n",
              "      background-color: #E2EBFA;\n",
              "      box-shadow: 0px 1px 2px rgba(60, 64, 67, 0.3), 0px 1px 3px 1px rgba(60, 64, 67, 0.15);\n",
              "      fill: #174EA6;\n",
              "    }\n",
              "\n",
              "    [theme=dark] .colab-df-convert {\n",
              "      background-color: #3B4455;\n",
              "      fill: #D2E3FC;\n",
              "    }\n",
              "\n",
              "    [theme=dark] .colab-df-convert:hover {\n",
              "      background-color: #434B5C;\n",
              "      box-shadow: 0px 1px 3px 1px rgba(0, 0, 0, 0.15);\n",
              "      filter: drop-shadow(0px 1px 2px rgba(0, 0, 0, 0.3));\n",
              "      fill: #FFFFFF;\n",
              "    }\n",
              "  </style>\n",
              "\n",
              "      <script>\n",
              "        const buttonEl =\n",
              "          document.querySelector('#df-390e8b63-7aa5-4ce8-818e-651aebacbcd4 button.colab-df-convert');\n",
              "        buttonEl.style.display =\n",
              "          google.colab.kernel.accessAllowed ? 'block' : 'none';\n",
              "\n",
              "        async function convertToInteractive(key) {\n",
              "          const element = document.querySelector('#df-390e8b63-7aa5-4ce8-818e-651aebacbcd4');\n",
              "          const dataTable =\n",
              "            await google.colab.kernel.invokeFunction('convertToInteractive',\n",
              "                                                     [key], {});\n",
              "          if (!dataTable) return;\n",
              "\n",
              "          const docLinkHtml = 'Like what you see? Visit the ' +\n",
              "            '<a target=\"_blank\" href=https://colab.research.google.com/notebooks/data_table.ipynb>data table notebook</a>'\n",
              "            + ' to learn more about interactive tables.';\n",
              "          element.innerHTML = '';\n",
              "          dataTable['output_type'] = 'display_data';\n",
              "          await google.colab.output.renderOutput(dataTable, element);\n",
              "          const docLink = document.createElement('div');\n",
              "          docLink.innerHTML = docLinkHtml;\n",
              "          element.appendChild(docLink);\n",
              "        }\n",
              "      </script>\n",
              "    </div>\n",
              "  </div>\n",
              "  "
            ]
          },
          "metadata": {},
          "execution_count": 207
        }
      ]
    },
    {
      "cell_type": "code",
      "source": [
        "ax = sns.countplot(x='Churn', data=dados_final)  # plotando a variável target balanceada."
      ],
      "metadata": {
        "colab": {
          "base_uri": "https://localhost:8080/",
          "height": 449
        },
        "id": "NcOnZeqkg0MF",
        "outputId": "7a40f959-1688-4bd9-a119-4146e5f60c91"
      },
      "execution_count": null,
      "outputs": [
        {
          "output_type": "display_data",
          "data": {
            "text/plain": [
              "<Figure size 640x480 with 1 Axes>"
            ],
            "image/png": "[encoded data removed]"
          },
          "metadata": {}
        }
      ]
    },
    {
      "cell_type": "markdown",
      "source": [
        "## KNN por trás dos panos."
      ],
      "metadata": {
        "id": "_ODIORsmO_Du"
      }
    },
    {
      "cell_type": "code",
      "source": [
        "Xmaria"
      ],
      "metadata": {
        "colab": {
          "base_uri": "https://localhost:8080/"
        },
        "id": "kU6YwHnig1LU",
        "outputId": "394112be-20d5-4b1f-ce35-e5d3efd360d7"
      },
      "execution_count": null,
      "outputs": [
        {
          "output_type": "execute_result",
          "data": {
            "text/plain": [
              "[[0,\n",
              "  0,\n",
              "  1,\n",
              "  1,\n",
              "  0,\n",
              "  0,\n",
              "  39.9,\n",
              "  1,\n",
              "  0,\n",
              "  0,\n",
              "  0,\n",
              "  1,\n",
              "  0,\n",
              "  1,\n",
              "  0,\n",
              "  0,\n",
              "  0,\n",
              "  0,\n",
              "  1,\n",
              "  1,\n",
              "  1,\n",
              "  0,\n",
              "  0,\n",
              "  1,\n",
              "  0,\n",
              "  1,\n",
              "  0,\n",
              "  0,\n",
              "  0,\n",
              "  0,\n",
              "  1,\n",
              "  0,\n",
              "  0,\n",
              "  1,\n",
              "  0,\n",
              "  0,\n",
              "  0,\n",
              "  1]]"
            ]
          },
          "metadata": {},
          "execution_count": 209
        }
      ]
    },
    {
      "cell_type": "code",
      "source": [
        "# Ymaria = ? "
      ],
      "metadata": {
        "id": "DrsyOnQBPI-e"
      },
      "execution_count": null,
      "outputs": []
    },
    {
      "cell_type": "code",
      "source": [
        "#Divisão em Inputs e Outputs\n",
        "X = dados_final.drop(\"Churn\", axis = 1)\n",
        "Y = dados_final[\"Churn\"]"
      ],
      "metadata": {
        "id": "bkSWf9wJPMlb"
      },
      "execution_count": null,
      "outputs": []
    },
    {
      "cell_type": "code",
      "source": [
        "# Padronização de dados.\n",
        "from sklearn.preprocessing import StandardScaler"
      ],
      "metadata": {
        "id": "69cLI315PcLe"
      },
      "execution_count": null,
      "outputs": []
    },
    {
      "cell_type": "code",
      "source": [
        "norm = StandardScaler()\n",
        "\n",
        "X_normalizado = norm.fit_transform(X)\n",
        "X_normalizado"
      ],
      "metadata": {
        "colab": {
          "base_uri": "https://localhost:8080/"
        },
        "id": "m3F-MlixPmpw",
        "outputId": "0b9c4c74-9209-46f9-8b43-0a2294628cf2"
      },
      "execution_count": null,
      "outputs": [
        {
          "output_type": "execute_result",
          "data": {
            "text/plain": [
              "array([[ 1.26542767, -0.52771004, -3.06083934, ...,  1.30373042,\n",
              "        -0.47912706, -0.4360152 ],\n",
              "       [-0.79024667, -0.52771004,  0.32670777, ..., -0.76702973,\n",
              "         2.08712905, -0.4360152 ],\n",
              "       [-0.79024667, -0.52771004,  0.32670777, ..., -0.76702973,\n",
              "         2.08712905, -0.4360152 ],\n",
              "       ...,\n",
              "       [-0.79024667, -0.52771004,  0.32670777, ...,  1.30373042,\n",
              "        -0.47912706, -0.4360152 ],\n",
              "       [-0.79024667, -0.52771004,  0.32670777, ..., -0.76702973,\n",
              "        -0.47912706, -0.4360152 ],\n",
              "       [-0.79024667, -0.52771004,  0.32670777, ..., -0.76702973,\n",
              "        -0.47912706, -0.4360152 ]])"
            ]
          },
          "metadata": {},
          "execution_count": 213
        }
      ]
    },
    {
      "cell_type": "code",
      "source": [
        "X_normalizado[0]"
      ],
      "metadata": {
        "colab": {
          "base_uri": "https://localhost:8080/"
        },
        "id": "hgWEQ8AoP_i5",
        "outputId": "245ea9c0-a1f3-40df-80ce-0fb5540259fb"
      },
      "execution_count": null,
      "outputs": [
        {
          "output_type": "execute_result",
          "data": {
            "text/plain": [
              "array([ 1.26542767, -0.52771004, -3.06083934,  0.81482091, -0.41318358,\n",
              "       -1.10771815, -1.3217706 , -0.88447396,  3.18604176, -0.83366906,\n",
              "        1.51268338, -1.04386816, -0.44617598,  0.86827317, -0.44617598,\n",
              "       -0.51721942, -0.95834643, -0.44617598,  1.57389661,  1.04285807,\n",
              "       -0.44617598, -0.64211419,  0.87979784, -0.44617598, -0.52426638,\n",
              "        1.18690873, -0.44617598, -0.77707385,  1.20311799, -0.44617598,\n",
              "       -0.78976268, -0.44648735,  0.73788726, -0.41989297, -0.42576817,\n",
              "        1.30373042, -0.47912706, -0.4360152 ])"
            ]
          },
          "metadata": {},
          "execution_count": 214
        }
      ]
    },
    {
      "cell_type": "code",
      "source": [
        "Xmaria_normalizado = norm.transform(pd.DataFrame(Xmaria, columns = X.columns))\n",
        "Xmaria_normalizado"
      ],
      "metadata": {
        "colab": {
          "base_uri": "https://localhost:8080/"
        },
        "id": "T9Wu6Oq9QE8G",
        "outputId": "9fa8ba6e-8b0b-4f2d-b816-271f61d18bac"
      },
      "execution_count": null,
      "outputs": [
        {
          "output_type": "execute_result",
          "data": {
            "text/plain": [
              "array([[-0.79024667, -0.52771004,  0.32670777,  0.81482091, -0.41318358,\n",
              "        -1.14938255, -0.97236043,  1.13061554, -0.31386908, -0.83366906,\n",
              "        -0.66107688,  0.95797538, -0.44617598,  0.86827317, -0.44617598,\n",
              "        -0.51721942, -0.95834643, -0.44617598,  1.57389661,  1.04285807,\n",
              "         2.24126814, -0.64211419, -1.13662476,  2.24126814, -0.52426638,\n",
              "         1.18690873, -0.44617598, -0.77707385, -0.83117367, -0.44617598,\n",
              "         1.26620316, -0.44648735, -1.35522058,  2.38155929, -0.42576817,\n",
              "        -0.76702973, -0.47912706,  2.293498  ]])"
            ]
          },
          "metadata": {},
          "execution_count": 215
        }
      ]
    },
    {
      "cell_type": "code",
      "source": [
        "import numpy as np "
      ],
      "metadata": {
        "id": "2cUhXhK1Zqq7"
      },
      "execution_count": null,
      "outputs": []
    },
    {
      "cell_type": "code",
      "source": [
        "a = Xmaria_normalizado"
      ],
      "metadata": {
        "id": "BQXPqw5bZuDt"
      },
      "execution_count": null,
      "outputs": []
    },
    {
      "cell_type": "code",
      "source": [
        "b = X_normalizado[0]"
      ],
      "metadata": {
        "id": "jllXo7p7ZxH_"
      },
      "execution_count": null,
      "outputs": []
    },
    {
      "cell_type": "code",
      "source": [
        "#1 - Começamos subtraindo\n",
        "a-b"
      ],
      "metadata": {
        "colab": {
          "base_uri": "https://localhost:8080/"
        },
        "id": "q6UYwZ8pZ1G_",
        "outputId": "15971294-0a25-4fc5-fb64-28f21705e016"
      },
      "execution_count": null,
      "outputs": [
        {
          "output_type": "execute_result",
          "data": {
            "text/plain": [
              "array([[-2.05567434,  0.        ,  3.38754711,  0.        ,  0.        ,\n",
              "        -0.0416644 ,  0.34941017,  2.0150895 , -3.49991084,  0.        ,\n",
              "        -2.17376025,  2.00184354,  0.        ,  0.        ,  0.        ,\n",
              "         0.        ,  0.        ,  0.        ,  0.        ,  0.        ,\n",
              "         2.68744412,  0.        , -2.01642259,  2.68744412,  0.        ,\n",
              "         0.        ,  0.        ,  0.        , -2.03429166,  0.        ,\n",
              "         2.05596584,  0.        , -2.09310784,  2.80145225,  0.        ,\n",
              "        -2.07076016,  0.        ,  2.72951321]])"
            ]
          },
          "metadata": {},
          "execution_count": 219
        }
      ]
    },
    {
      "cell_type": "code",
      "source": [
        "#2 - Depois realizamos a exponenciação \n",
        "np.square(a-b)"
      ],
      "metadata": {
        "colab": {
          "base_uri": "https://localhost:8080/"
        },
        "id": "bMyxgvuOZ3hG",
        "outputId": "55fe8cb0-7b1b-4ba5-d043-60610913eaa6"
      },
      "execution_count": null,
      "outputs": [
        {
          "output_type": "execute_result",
          "data": {
            "text/plain": [
              "array([[4.22579699e+00, 0.00000000e+00, 1.14754754e+01, 0.00000000e+00,\n",
              "        0.00000000e+00, 1.73592202e-03, 1.22087466e-01, 4.06058568e+00,\n",
              "        1.22493759e+01, 0.00000000e+00, 4.72523363e+00, 4.00737757e+00,\n",
              "        0.00000000e+00, 0.00000000e+00, 0.00000000e+00, 0.00000000e+00,\n",
              "        0.00000000e+00, 0.00000000e+00, 0.00000000e+00, 0.00000000e+00,\n",
              "        7.22235589e+00, 0.00000000e+00, 4.06596007e+00, 7.22235589e+00,\n",
              "        0.00000000e+00, 0.00000000e+00, 0.00000000e+00, 0.00000000e+00,\n",
              "        4.13834258e+00, 0.00000000e+00, 4.22699553e+00, 0.00000000e+00,\n",
              "        4.38110042e+00, 7.84813473e+00, 0.00000000e+00, 4.28804763e+00,\n",
              "        0.00000000e+00, 7.45024235e+00]])"
            ]
          },
          "metadata": {},
          "execution_count": 220
        }
      ]
    },
    {
      "cell_type": "code",
      "source": [
        "#3 - A soma\n",
        "np.sum(np.square(a-b))"
      ],
      "metadata": {
        "colab": {
          "base_uri": "https://localhost:8080/"
        },
        "id": "DpLG7MgPaJSX",
        "outputId": "dbc52eca-736b-4b66-d704-4d3c29f3cdd6"
      },
      "execution_count": null,
      "outputs": [
        {
          "output_type": "execute_result",
          "data": {
            "text/plain": [
              "91.7112036526817"
            ]
          },
          "metadata": {},
          "execution_count": 221
        }
      ]
    },
    {
      "cell_type": "code",
      "source": [
        "#4 - Então tiramos a raiz quadrada e temos nossa distancia\n",
        "np.sqrt(91.7112036526817)"
      ],
      "metadata": {
        "colab": {
          "base_uri": "https://localhost:8080/"
        },
        "id": "iFCnOYExaQs_",
        "outputId": "84139b23-13ab-44b1-b9ca-9c856947d404"
      },
      "execution_count": null,
      "outputs": [
        {
          "output_type": "execute_result",
          "data": {
            "text/plain": [
              "9.576596663360199"
            ]
          },
          "metadata": {},
          "execution_count": 222
        }
      ]
    },
    {
      "cell_type": "markdown",
      "source": [
        "## Implementando o modelo"
      ],
      "metadata": {
        "id": "oMVFvFHubEBf"
      }
    },
    {
      "cell_type": "code",
      "source": [
        "#Biblioteca para divisão dos dados.\n",
        "from sklearn.model_selection import train_test_split"
      ],
      "metadata": {
        "id": "ASJtIIllbGfU"
      },
      "execution_count": null,
      "outputs": []
    },
    {
      "cell_type": "code",
      "source": [
        "X_treino, X_teste, y_treino, y_teste = train_test_split(X_normalizado, y, test_size = 0.3, random_state = 123)"
      ],
      "metadata": {
        "id": "4Fwefc1tbOLX"
      },
      "execution_count": null,
      "outputs": []
    },
    {
      "cell_type": "markdown",
      "source": [
        "### Treino e teste"
      ],
      "metadata": {
        "id": "ek59BojVpF_X"
      }
    },
    {
      "cell_type": "code",
      "source": [
        "#Biblioteca para criamos o modelo de ML\n",
        "from sklearn.neighbors import KNeighborsClassifier"
      ],
      "metadata": {
        "id": "taTzo7nubcJn"
      },
      "execution_count": null,
      "outputs": []
    },
    {
      "cell_type": "code",
      "source": [
        "#Instaciarmos o modelo - por padrão são 5 vizinhos\n",
        "knn = KNeighborsClassifier(metric='euclidean')"
      ],
      "metadata": {
        "id": "w4Nybec1p5Rz"
      },
      "execution_count": null,
      "outputs": []
    },
    {
      "cell_type": "code",
      "source": [
        "#treinando o modelo com os dados de treino\n",
        "knn.fit(X_treino, y_treino)"
      ],
      "metadata": {
        "colab": {
          "base_uri": "https://localhost:8080/",
          "height": 75
        },
        "id": "8p3PFAeRqFAN",
        "outputId": "aeff7b6a-00b6-49ae-e619-38b56dd2f7e0"
      },
      "execution_count": null,
      "outputs": [
        {
          "output_type": "execute_result",
          "data": {
            "text/plain": [
              "KNeighborsClassifier(metric='euclidean')"
            ],
            "text/html": [
              "<style>#sk-container-id-9 {color: black;background-color: white;}#sk-container-id-9 pre{padding: 0;}#sk-container-id-9 div.sk-toggleable {background-color: white;}#sk-container-id-9 label.sk-toggleable__label {cursor: pointer;display: block;width: 100%;margin-bottom: 0;padding: 0.3em;box-sizing: border-box;text-align: center;}#sk-container-id-9 label.sk-toggleable__label-arrow:before {content: \"▸\";float: left;margin-right: 0.25em;color: #696969;}#sk-container-id-9 label.sk-toggleable__label-arrow:hover:before {color: black;}#sk-container-id-9 div.sk-estimator:hover label.sk-toggleable__label-arrow:before {color: black;}#sk-container-id-9 div.sk-toggleable__content {max-height: 0;max-width: 0;overflow: hidden;text-align: left;background-color: #f0f8ff;}#sk-container-id-9 div.sk-toggleable__content pre {margin: 0.2em;color: black;border-radius: 0.25em;background-color: #f0f8ff;}#sk-container-id-9 input.sk-toggleable__control:checked~div.sk-toggleable__content {max-height: 200px;max-width: 100%;overflow: auto;}#sk-container-id-9 input.sk-toggleable__control:checked~label.sk-toggleable__label-arrow:before {content: \"▾\";}#sk-container-id-9 div.sk-estimator input.sk-toggleable__control:checked~label.sk-toggleable__label {background-color: #d4ebff;}#sk-container-id-9 div.sk-label input.sk-toggleable__control:checked~label.sk-toggleable__label {background-color: #d4ebff;}#sk-container-id-9 input.sk-hidden--visually {border: 0;clip: rect(1px 1px 1px 1px);clip: rect(1px, 1px, 1px, 1px);height: 1px;margin: -1px;overflow: hidden;padding: 0;position: absolute;width: 1px;}#sk-container-id-9 div.sk-estimator {font-family: monospace;background-color: #f0f8ff;border: 1px dotted black;border-radius: 0.25em;box-sizing: border-box;margin-bottom: 0.5em;}#sk-container-id-9 div.sk-estimator:hover {background-color: #d4ebff;}#sk-container-id-9 div.sk-parallel-item::after {content: \"\";width: 100%;border-bottom: 1px solid gray;flex-grow: 1;}#sk-container-id-9 div.sk-label:hover label.sk-toggleable__label {background-color: #d4ebff;}#sk-container-id-9 div.sk-serial::before {content: \"\";position: absolute;border-left: 1px solid gray;box-sizing: border-box;top: 0;bottom: 0;left: 50%;z-index: 0;}#sk-container-id-9 div.sk-serial {display: flex;flex-direction: column;align-items: center;background-color: white;padding-right: 0.2em;padding-left: 0.2em;position: relative;}#sk-container-id-9 div.sk-item {position: relative;z-index: 1;}#sk-container-id-9 div.sk-parallel {display: flex;align-items: stretch;justify-content: center;background-color: white;position: relative;}#sk-container-id-9 div.sk-item::before, #sk-container-id-9 div.sk-parallel-item::before {content: \"\";position: absolute;border-left: 1px solid gray;box-sizing: border-box;top: 0;bottom: 0;left: 50%;z-index: -1;}#sk-container-id-9 div.sk-parallel-item {display: flex;flex-direction: column;z-index: 1;position: relative;background-color: white;}#sk-container-id-9 div.sk-parallel-item:first-child::after {align-self: flex-end;width: 50%;}#sk-container-id-9 div.sk-parallel-item:last-child::after {align-self: flex-start;width: 50%;}#sk-container-id-9 div.sk-parallel-item:only-child::after {width: 0;}#sk-container-id-9 div.sk-dashed-wrapped {border: 1px dashed gray;margin: 0 0.4em 0.5em 0.4em;box-sizing: border-box;padding-bottom: 0.4em;background-color: white;}#sk-container-id-9 div.sk-label label {font-family: monospace;font-weight: bold;display: inline-block;line-height: 1.2em;}#sk-container-id-9 div.sk-label-container {text-align: center;}#sk-container-id-9 div.sk-container {/* jupyter's `normalize.less` sets `[hidden] { display: none; }` but bootstrap.min.css set `[hidden] { display: none !important; }` so we also need the `!important` here to be able to override the default hidden behavior on the sphinx rendered scikit-learn.org. See: https://github.com/scikit-learn/scikit-learn/issues/21755 */display: inline-block !important;position: relative;}#sk-container-id-9 div.sk-text-repr-fallback {display: none;}</style><div id=\"sk-container-id-9\" class=\"sk-top-container\"><div class=\"sk-text-repr-fallback\"><pre>KNeighborsClassifier(metric=&#x27;euclidean&#x27;)</pre><b>In a Jupyter environment, please rerun this cell to show the HTML representation or trust the notebook. <br />On GitHub, the HTML representation is unable to render, please try loading this page with nbviewer.org.</b></div><div class=\"sk-container\" hidden><div class=\"sk-item\"><div class=\"sk-estimator sk-toggleable\"><input class=\"sk-toggleable__control sk-hidden--visually\" id=\"sk-estimator-id-9\" type=\"checkbox\" checked><label for=\"sk-estimator-id-9\" class=\"sk-toggleable__label sk-toggleable__label-arrow\">KNeighborsClassifier</label><div class=\"sk-toggleable__content\"><pre>KNeighborsClassifier(metric=&#x27;euclidean&#x27;)</pre></div></div></div></div></div>"
            ]
          },
          "metadata": {},
          "execution_count": 227
        }
      ]
    },
    {
      "cell_type": "code",
      "source": [
        "#Testando o modelo com os dados de teste\n",
        "predito_knn = knn.predict(X_teste)"
      ],
      "metadata": {
        "id": "jhSrF0dJqdw8"
      },
      "execution_count": null,
      "outputs": []
    },
    {
      "cell_type": "code",
      "source": [
        "predito_knn"
      ],
      "metadata": {
        "colab": {
          "base_uri": "https://localhost:8080/"
        },
        "id": "_1KSfvDmqweN",
        "outputId": "366db52a-c062-4768-c287-a388a7628ab1"
      },
      "execution_count": null,
      "outputs": [
        {
          "output_type": "execute_result",
          "data": {
            "text/plain": [
              "array([1, 0, 0, ..., 0, 1, 1])"
            ]
          },
          "metadata": {},
          "execution_count": 229
        }
      ]
    },
    {
      "cell_type": "code",
      "source": [
        "import numpy as np"
      ],
      "metadata": {
        "id": "M0eRNCg5rRVN"
      },
      "execution_count": null,
      "outputs": []
    },
    {
      "cell_type": "code",
      "source": [
        "def calcula_distancia(dados_clientes, dados_maria, numero_clientes):\n",
        "    distancias = []\n",
        "\n",
        "#loop para percorrer cliente por cliente\n",
        "    for i in range(numero_clientes):\n",
        "        dist1 = dados_maria - dados_clientes[i]            #subtração dos atributos\n",
        "        soma_quadrado = np.sum(np.square(dist1))    #exponenciação e soma de todos os atributos\n",
        "        distancias.append(np.sqrt(soma_quadrado))   #raiz quadrada da soma anterior\n",
        "\n",
        "    return distancias"
      ],
      "metadata": {
        "id": "KSUbLxXNrRrl"
      },
      "execution_count": null,
      "outputs": []
    },
    {
      "cell_type": "code",
      "source": [
        "calcula_distancia(X_normalizado, Xmaria_normalizado, 10)"
      ],
      "metadata": {
        "colab": {
          "base_uri": "https://localhost:8080/"
        },
        "id": "G-i8AutIrUim",
        "outputId": "3e9ba56f-3cb3-4859-a72c-e4b2b328da6e"
      },
      "execution_count": null,
      "outputs": [
        {
          "output_type": "execute_result",
          "data": {
            "text/plain": [
              "[9.576596663360199,\n",
              " 9.164687977147782,\n",
              " 8.497169420877166,\n",
              " 10.037544220142902,\n",
              " 7.8028994013625566,\n",
              " 9.01167938964265,\n",
              " 8.970041771751976,\n",
              " 10.634917481179656,\n",
              " 9.45035230511453,\n",
              " 7.919985943117673]"
            ]
          },
          "metadata": {},
          "execution_count": 232
        }
      ]
    },
    {
      "cell_type": "markdown",
      "source": [
        "# Modelo Bernoulli Naive Bayes"
      ],
      "metadata": {
        "id": "nGOgyJHYvRLg"
      }
    },
    {
      "cell_type": "code",
      "source": [
        "X_treino"
      ],
      "metadata": {
        "colab": {
          "base_uri": "https://localhost:8080/"
        },
        "id": "Mf7YmIXswLNi",
        "outputId": "d5ad7b65-246e-41ed-ec59-40fe05cf959c"
      },
      "execution_count": null,
      "outputs": [
        {
          "output_type": "execute_result",
          "data": {
            "text/plain": [
              "array([[-0.79024667, -0.52771004, -3.06083934, ..., -0.76702973,\n",
              "         2.08712905, -0.4360152 ],\n",
              "       [ 1.26542767,  1.89498006,  0.32670777, ..., -0.76702973,\n",
              "         2.08712905, -0.4360152 ],\n",
              "       [-0.79024667, -0.52771004,  0.32670777, ...,  1.30373042,\n",
              "        -0.47912706, -0.4360152 ],\n",
              "       ...,\n",
              "       [ 1.26542767,  1.89498006,  0.32670777, ..., -0.76702973,\n",
              "         2.08712905, -0.4360152 ],\n",
              "       [ 1.26542767,  1.89498006,  0.32670777, ...,  1.30373042,\n",
              "        -0.47912706, -0.4360152 ],\n",
              "       [-0.79024667, -0.52771004,  0.32670777, ...,  1.30373042,\n",
              "        -0.47912706, -0.4360152 ]])"
            ]
          },
          "metadata": {},
          "execution_count": 233
        }
      ]
    },
    {
      "cell_type": "code",
      "source": [
        "Y_treino"
      ],
      "metadata": {
        "colab": {
          "base_uri": "https://localhost:8080/"
        },
        "id": "Au0YSwbWx1ra",
        "outputId": "55edd36a-0221-445d-fdee-da1640d6974c"
      },
      "execution_count": null,
      "outputs": [
        {
          "output_type": "execute_result",
          "data": {
            "text/plain": [
              "8969    1\n",
              "7136    1\n",
              "3668    0\n",
              "1701    1\n",
              "3143    0\n",
              "       ..\n",
              "5734    0\n",
              "5191    0\n",
              "5390    1\n",
              "860     0\n",
              "7270    1\n",
              "Name: Churn, Length: 7243, dtype: int64"
            ]
          },
          "metadata": {},
          "execution_count": 234
        }
      ]
    },
    {
      "cell_type": "code",
      "source": [
        "#Escolho usar a mediana, pq é o valor central dos nossos dados ordenados\n",
        "np.median(X_treino)"
      ],
      "metadata": {
        "colab": {
          "base_uri": "https://localhost:8080/"
        },
        "id": "7fxsTkHhx5X-",
        "outputId": "38ecc98b-1a35-4a6a-ba93-c852c39f46d3"
      },
      "execution_count": null,
      "outputs": [
        {
          "output_type": "execute_result",
          "data": {
            "text/plain": [
              "-0.4461759755508453"
            ]
          },
          "metadata": {},
          "execution_count": 235
        }
      ]
    },
    {
      "cell_type": "code",
      "source": [
        "from sklearn.naive_bayes import BernoulliNB"
      ],
      "metadata": {
        "id": "xPvEdrJex_9r"
      },
      "execution_count": null,
      "outputs": []
    },
    {
      "cell_type": "code",
      "source": [
        "#criamos o modelo\n",
        "bnb = BernoulliNB()"
      ],
      "metadata": {
        "id": "nnq_2lSYyItr"
      },
      "execution_count": null,
      "outputs": []
    },
    {
      "cell_type": "code",
      "source": [
        "bnb.fit(X_treino,y_treino)"
      ],
      "metadata": {
        "colab": {
          "base_uri": "https://localhost:8080/",
          "height": 75
        },
        "id": "246fXFGByTgr",
        "outputId": "ef097c04-79cc-441c-f80c-ed37c45b12dd"
      },
      "execution_count": null,
      "outputs": [
        {
          "output_type": "execute_result",
          "data": {
            "text/plain": [
              "BernoulliNB()"
            ],
            "text/html": [
              "<style>#sk-container-id-10 {color: black;background-color: white;}#sk-container-id-10 pre{padding: 0;}#sk-container-id-10 div.sk-toggleable {background-color: white;}#sk-container-id-10 label.sk-toggleable__label {cursor: pointer;display: block;width: 100%;margin-bottom: 0;padding: 0.3em;box-sizing: border-box;text-align: center;}#sk-container-id-10 label.sk-toggleable__label-arrow:before {content: \"▸\";float: left;margin-right: 0.25em;color: #696969;}#sk-container-id-10 label.sk-toggleable__label-arrow:hover:before {color: black;}#sk-container-id-10 div.sk-estimator:hover label.sk-toggleable__label-arrow:before {color: black;}#sk-container-id-10 div.sk-toggleable__content {max-height: 0;max-width: 0;overflow: hidden;text-align: left;background-color: #f0f8ff;}#sk-container-id-10 div.sk-toggleable__content pre {margin: 0.2em;color: black;border-radius: 0.25em;background-color: #f0f8ff;}#sk-container-id-10 input.sk-toggleable__control:checked~div.sk-toggleable__content {max-height: 200px;max-width: 100%;overflow: auto;}#sk-container-id-10 input.sk-toggleable__control:checked~label.sk-toggleable__label-arrow:before {content: \"▾\";}#sk-container-id-10 div.sk-estimator input.sk-toggleable__control:checked~label.sk-toggleable__label {background-color: #d4ebff;}#sk-container-id-10 div.sk-label input.sk-toggleable__control:checked~label.sk-toggleable__label {background-color: #d4ebff;}#sk-container-id-10 input.sk-hidden--visually {border: 0;clip: rect(1px 1px 1px 1px);clip: rect(1px, 1px, 1px, 1px);height: 1px;margin: -1px;overflow: hidden;padding: 0;position: absolute;width: 1px;}#sk-container-id-10 div.sk-estimator {font-family: monospace;background-color: #f0f8ff;border: 1px dotted black;border-radius: 0.25em;box-sizing: border-box;margin-bottom: 0.5em;}#sk-container-id-10 div.sk-estimator:hover {background-color: #d4ebff;}#sk-container-id-10 div.sk-parallel-item::after {content: \"\";width: 100%;border-bottom: 1px solid gray;flex-grow: 1;}#sk-container-id-10 div.sk-label:hover label.sk-toggleable__label {background-color: #d4ebff;}#sk-container-id-10 div.sk-serial::before {content: \"\";position: absolute;border-left: 1px solid gray;box-sizing: border-box;top: 0;bottom: 0;left: 50%;z-index: 0;}#sk-container-id-10 div.sk-serial {display: flex;flex-direction: column;align-items: center;background-color: white;padding-right: 0.2em;padding-left: 0.2em;position: relative;}#sk-container-id-10 div.sk-item {position: relative;z-index: 1;}#sk-container-id-10 div.sk-parallel {display: flex;align-items: stretch;justify-content: center;background-color: white;position: relative;}#sk-container-id-10 div.sk-item::before, #sk-container-id-10 div.sk-parallel-item::before {content: \"\";position: absolute;border-left: 1px solid gray;box-sizing: border-box;top: 0;bottom: 0;left: 50%;z-index: -1;}#sk-container-id-10 div.sk-parallel-item {display: flex;flex-direction: column;z-index: 1;position: relative;background-color: white;}#sk-container-id-10 div.sk-parallel-item:first-child::after {align-self: flex-end;width: 50%;}#sk-container-id-10 div.sk-parallel-item:last-child::after {align-self: flex-start;width: 50%;}#sk-container-id-10 div.sk-parallel-item:only-child::after {width: 0;}#sk-container-id-10 div.sk-dashed-wrapped {border: 1px dashed gray;margin: 0 0.4em 0.5em 0.4em;box-sizing: border-box;padding-bottom: 0.4em;background-color: white;}#sk-container-id-10 div.sk-label label {font-family: monospace;font-weight: bold;display: inline-block;line-height: 1.2em;}#sk-container-id-10 div.sk-label-container {text-align: center;}#sk-container-id-10 div.sk-container {/* jupyter's `normalize.less` sets `[hidden] { display: none; }` but bootstrap.min.css set `[hidden] { display: none !important; }` so we also need the `!important` here to be able to override the default hidden behavior on the sphinx rendered scikit-learn.org. See: https://github.com/scikit-learn/scikit-learn/issues/21755 */display: inline-block !important;position: relative;}#sk-container-id-10 div.sk-text-repr-fallback {display: none;}</style><div id=\"sk-container-id-10\" class=\"sk-top-container\"><div class=\"sk-text-repr-fallback\"><pre>BernoulliNB()</pre><b>In a Jupyter environment, please rerun this cell to show the HTML representation or trust the notebook. <br />On GitHub, the HTML representation is unable to render, please try loading this page with nbviewer.org.</b></div><div class=\"sk-container\" hidden><div class=\"sk-item\"><div class=\"sk-estimator sk-toggleable\"><input class=\"sk-toggleable__control sk-hidden--visually\" id=\"sk-estimator-id-10\" type=\"checkbox\" checked><label for=\"sk-estimator-id-10\" class=\"sk-toggleable__label sk-toggleable__label-arrow\">BernoulliNB</label><div class=\"sk-toggleable__content\"><pre>BernoulliNB()</pre></div></div></div></div></div>"
            ]
          },
          "metadata": {},
          "execution_count": 238
        }
      ]
    },
    {
      "cell_type": "code",
      "source": [
        "predito_Bnb = bnb.predict(X_teste)"
      ],
      "metadata": {
        "id": "Zh0hyN2MyWts"
      },
      "execution_count": null,
      "outputs": []
    },
    {
      "cell_type": "code",
      "source": [
        "predito_Bnb"
      ],
      "metadata": {
        "colab": {
          "base_uri": "https://localhost:8080/"
        },
        "id": "IHt7m0aFy5gb",
        "outputId": "3cc25bdc-7d31-4e66-8d90-c8ab632a22c1"
      },
      "execution_count": null,
      "outputs": [
        {
          "output_type": "execute_result",
          "data": {
            "text/plain": [
              "array([1, 0, 0, ..., 1, 1, 1])"
            ]
          },
          "metadata": {},
          "execution_count": 240
        }
      ]
    },
    {
      "cell_type": "markdown",
      "source": [
        "# Método Simbólico (Árvore de descisão)"
      ],
      "metadata": {
        "id": "PNw5jzShzQel"
      }
    },
    {
      "cell_type": "code",
      "source": [
        "from sklearn.tree import DecisionTreeClassifier"
      ],
      "metadata": {
        "id": "hS-KfHYTzU3z"
      },
      "execution_count": null,
      "outputs": []
    },
    {
      "cell_type": "code",
      "source": [
        "# Instanciando o modelo\n",
        "dtc = DecisionTreeClassifier(criterion=\"entropy\", random_state=42)"
      ],
      "metadata": {
        "id": "a8l_mSrTUjVJ"
      },
      "execution_count": null,
      "outputs": []
    },
    {
      "cell_type": "code",
      "source": [
        "# Treinar o modelo\n",
        "dtc.fit(X_treino,y_treino)"
      ],
      "metadata": {
        "colab": {
          "base_uri": "https://localhost:8080/",
          "height": 75
        },
        "id": "RK6DJf6_Upvq",
        "outputId": "bbc3758d-3688-4d34-e7b9-08ca41c81e8f"
      },
      "execution_count": null,
      "outputs": [
        {
          "output_type": "execute_result",
          "data": {
            "text/plain": [
              "DecisionTreeClassifier(criterion='entropy', random_state=42)"
            ],
            "text/html": [
              "<style>#sk-container-id-11 {color: black;background-color: white;}#sk-container-id-11 pre{padding: 0;}#sk-container-id-11 div.sk-toggleable {background-color: white;}#sk-container-id-11 label.sk-toggleable__label {cursor: pointer;display: block;width: 100%;margin-bottom: 0;padding: 0.3em;box-sizing: border-box;text-align: center;}#sk-container-id-11 label.sk-toggleable__label-arrow:before {content: \"▸\";float: left;margin-right: 0.25em;color: #696969;}#sk-container-id-11 label.sk-toggleable__label-arrow:hover:before {color: black;}#sk-container-id-11 div.sk-estimator:hover label.sk-toggleable__label-arrow:before {color: black;}#sk-container-id-11 div.sk-toggleable__content {max-height: 0;max-width: 0;overflow: hidden;text-align: left;background-color: #f0f8ff;}#sk-container-id-11 div.sk-toggleable__content pre {margin: 0.2em;color: black;border-radius: 0.25em;background-color: #f0f8ff;}#sk-container-id-11 input.sk-toggleable__control:checked~div.sk-toggleable__content {max-height: 200px;max-width: 100%;overflow: auto;}#sk-container-id-11 input.sk-toggleable__control:checked~label.sk-toggleable__label-arrow:before {content: \"▾\";}#sk-container-id-11 div.sk-estimator input.sk-toggleable__control:checked~label.sk-toggleable__label {background-color: #d4ebff;}#sk-container-id-11 div.sk-label input.sk-toggleable__control:checked~label.sk-toggleable__label {background-color: #d4ebff;}#sk-container-id-11 input.sk-hidden--visually {border: 0;clip: rect(1px 1px 1px 1px);clip: rect(1px, 1px, 1px, 1px);height: 1px;margin: -1px;overflow: hidden;padding: 0;position: absolute;width: 1px;}#sk-container-id-11 div.sk-estimator {font-family: monospace;background-color: #f0f8ff;border: 1px dotted black;border-radius: 0.25em;box-sizing: border-box;margin-bottom: 0.5em;}#sk-container-id-11 div.sk-estimator:hover {background-color: #d4ebff;}#sk-container-id-11 div.sk-parallel-item::after {content: \"\";width: 100%;border-bottom: 1px solid gray;flex-grow: 1;}#sk-container-id-11 div.sk-label:hover label.sk-toggleable__label {background-color: #d4ebff;}#sk-container-id-11 div.sk-serial::before {content: \"\";position: absolute;border-left: 1px solid gray;box-sizing: border-box;top: 0;bottom: 0;left: 50%;z-index: 0;}#sk-container-id-11 div.sk-serial {display: flex;flex-direction: column;align-items: center;background-color: white;padding-right: 0.2em;padding-left: 0.2em;position: relative;}#sk-container-id-11 div.sk-item {position: relative;z-index: 1;}#sk-container-id-11 div.sk-parallel {display: flex;align-items: stretch;justify-content: center;background-color: white;position: relative;}#sk-container-id-11 div.sk-item::before, #sk-container-id-11 div.sk-parallel-item::before {content: \"\";position: absolute;border-left: 1px solid gray;box-sizing: border-box;top: 0;bottom: 0;left: 50%;z-index: -1;}#sk-container-id-11 div.sk-parallel-item {display: flex;flex-direction: column;z-index: 1;position: relative;background-color: white;}#sk-container-id-11 div.sk-parallel-item:first-child::after {align-self: flex-end;width: 50%;}#sk-container-id-11 div.sk-parallel-item:last-child::after {align-self: flex-start;width: 50%;}#sk-container-id-11 div.sk-parallel-item:only-child::after {width: 0;}#sk-container-id-11 div.sk-dashed-wrapped {border: 1px dashed gray;margin: 0 0.4em 0.5em 0.4em;box-sizing: border-box;padding-bottom: 0.4em;background-color: white;}#sk-container-id-11 div.sk-label label {font-family: monospace;font-weight: bold;display: inline-block;line-height: 1.2em;}#sk-container-id-11 div.sk-label-container {text-align: center;}#sk-container-id-11 div.sk-container {/* jupyter's `normalize.less` sets `[hidden] { display: none; }` but bootstrap.min.css set `[hidden] { display: none !important; }` so we also need the `!important` here to be able to override the default hidden behavior on the sphinx rendered scikit-learn.org. See: https://github.com/scikit-learn/scikit-learn/issues/21755 */display: inline-block !important;position: relative;}#sk-container-id-11 div.sk-text-repr-fallback {display: none;}</style><div id=\"sk-container-id-11\" class=\"sk-top-container\"><div class=\"sk-text-repr-fallback\"><pre>DecisionTreeClassifier(criterion=&#x27;entropy&#x27;, random_state=42)</pre><b>In a Jupyter environment, please rerun this cell to show the HTML representation or trust the notebook. <br />On GitHub, the HTML representation is unable to render, please try loading this page with nbviewer.org.</b></div><div class=\"sk-container\" hidden><div class=\"sk-item\"><div class=\"sk-estimator sk-toggleable\"><input class=\"sk-toggleable__control sk-hidden--visually\" id=\"sk-estimator-id-11\" type=\"checkbox\" checked><label for=\"sk-estimator-id-11\" class=\"sk-toggleable__label sk-toggleable__label-arrow\">DecisionTreeClassifier</label><div class=\"sk-toggleable__content\"><pre>DecisionTreeClassifier(criterion=&#x27;entropy&#x27;, random_state=42)</pre></div></div></div></div></div>"
            ]
          },
          "metadata": {},
          "execution_count": 243
        }
      ]
    },
    {
      "cell_type": "code",
      "source": [
        "# Verificando a importancia de cada atributo\n",
        "dtc.feature_importances_"
      ],
      "metadata": {
        "colab": {
          "base_uri": "https://localhost:8080/"
        },
        "id": "jUKLbMcSUti5",
        "outputId": "6968de06-db88-4fc4-80b5-fbff101be564"
      },
      "execution_count": null,
      "outputs": [
        {
          "output_type": "execute_result",
          "data": {
            "text/plain": [
              "array([0.02100894, 0.01395648, 0.0068095 , 0.01986065, 0.01886452,\n",
              "       0.1627932 , 0.22212421, 0.00939177, 0.00344576, 0.01039829,\n",
              "       0.0019815 , 0.03128648, 0.00065123, 0.00849934, 0.        ,\n",
              "       0.01698366, 0.00622973, 0.        , 0.00964718, 0.01267467,\n",
              "       0.00027769, 0.00770208, 0.01299062, 0.00368329, 0.02047256,\n",
              "       0.00371587, 0.        , 0.00156955, 0.00671244, 0.0003825 ,\n",
              "       0.01126638, 0.03622159, 0.16358635, 0.07445054, 0.01758995,\n",
              "       0.02117825, 0.02183557, 0.01975766])"
            ]
          },
          "metadata": {},
          "execution_count": 246
        }
      ]
    },
    {
      "cell_type": "code",
      "source": [
        "predito_ArvoreDecisao = dtc.predict(X_teste)"
      ],
      "metadata": {
        "id": "RK87AcoHU76I"
      },
      "execution_count": null,
      "outputs": []
    },
    {
      "cell_type": "code",
      "source": [
        "predito_ArvoreDecisao"
      ],
      "metadata": {
        "colab": {
          "base_uri": "https://localhost:8080/"
        },
        "id": "8WOIFhb1VABA",
        "outputId": "74a7e96a-1370-42ac-feb0-1d523e82b3c0"
      },
      "execution_count": null,
      "outputs": [
        {
          "output_type": "execute_result",
          "data": {
            "text/plain": [
              "array([0, 0, 0, ..., 1, 1, 1])"
            ]
          },
          "metadata": {},
          "execution_count": 255
        }
      ]
    },
    {
      "cell_type": "markdown",
      "source": [
        "# Validação dos modelos"
      ],
      "metadata": {
        "id": "Zs18R9rxVHab"
      }
    },
    {
      "cell_type": "markdown",
      "source": [
        "## Matriz de confusão"
      ],
      "metadata": {
        "id": "_6eNdYnWbMee"
      }
    },
    {
      "cell_type": "markdown",
      "source": [
        "![image.png](data:image/png;base64,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)"
      ],
      "metadata": {
        "id": "nAaBP5SpbR8R"
      }
    },
    {
      "cell_type": "code",
      "source": [
        "from sklearn.metrics import confusion_matrix"
      ],
      "metadata": {
        "id": "lSVu0i3jVXEl"
      },
      "execution_count": null,
      "outputs": []
    },
    {
      "cell_type": "code",
      "source": [
        "print (confusion_matrix(y_teste, predito_knn))"
      ],
      "metadata": {
        "colab": {
          "base_uri": "https://localhost:8080/"
        },
        "id": "0iu03uIXcYkN",
        "outputId": "db3fa5e1-8ae7-4ec0-985b-12d9f93fc62d"
      },
      "execution_count": null,
      "outputs": [
        {
          "output_type": "stream",
          "name": "stdout",
          "text": [
            "[[1242  327]\n",
            " [ 248 1288]]\n"
          ]
        }
      ]
    },
    {
      "cell_type": "code",
      "source": [
        "print (confusion_matrix(y_teste, predito_Bnb))"
      ],
      "metadata": {
        "colab": {
          "base_uri": "https://localhost:8080/"
        },
        "id": "EjXQiapEczBz",
        "outputId": "44e671e2-0033-4102-85ae-6b5b699ca97f"
      },
      "execution_count": null,
      "outputs": [
        {
          "output_type": "stream",
          "name": "stdout",
          "text": [
            "[[1091  478]\n",
            " [ 241 1295]]\n"
          ]
        }
      ]
    },
    {
      "cell_type": "code",
      "source": [
        "print (confusion_matrix(y_teste, predito_ArvoreDecisao))"
      ],
      "metadata": {
        "colab": {
          "base_uri": "https://localhost:8080/"
        },
        "id": "pRFSseRNc7DC",
        "outputId": "da122222-5958-4d02-9f23-f22ab5d35d41"
      },
      "execution_count": null,
      "outputs": [
        {
          "output_type": "stream",
          "name": "stdout",
          "text": [
            "[[1250  319]\n",
            " [ 275 1261]]\n"
          ]
        }
      ]
    },
    {
      "cell_type": "markdown",
      "source": [
        "## Acurácia"
      ],
      "metadata": {
        "id": "c4ARGsaFdIB9"
      }
    },
    {
      "cell_type": "code",
      "source": [
        "from sklearn.metrics import accuracy_score"
      ],
      "metadata": {
        "id": "SAfz5KI2dHf5"
      },
      "execution_count": null,
      "outputs": []
    },
    {
      "cell_type": "code",
      "source": [
        "print(accuracy_score(y_teste, predito_knn))"
      ],
      "metadata": {
        "colab": {
          "base_uri": "https://localhost:8080/"
        },
        "id": "UEwuWm0l8m9v",
        "outputId": "52addde8-8eaf-44d5-de13-e80a05f99433"
      },
      "execution_count": null,
      "outputs": [
        {
          "output_type": "stream",
          "name": "stdout",
          "text": [
            "0.8148148148148148\n"
          ]
        }
      ]
    },
    {
      "cell_type": "code",
      "source": [
        "print(accuracy_score(y_teste, predito_Bnb))"
      ],
      "metadata": {
        "colab": {
          "base_uri": "https://localhost:8080/"
        },
        "id": "ypIqM4ml8nWs",
        "outputId": "3cb8d42e-717b-4b88-ef6d-97045549003e"
      },
      "execution_count": null,
      "outputs": [
        {
          "output_type": "stream",
          "name": "stdout",
          "text": [
            "0.768438003220612\n"
          ]
        }
      ]
    },
    {
      "cell_type": "code",
      "source": [
        "print(accuracy_score(y_teste, predito_ArvoreDecisao))"
      ],
      "metadata": {
        "colab": {
          "base_uri": "https://localhost:8080/"
        },
        "id": "E31rjAuf8niQ",
        "outputId": "79c70ad8-f24d-4ee4-fe4f-06ac4e1e13d5"
      },
      "execution_count": null,
      "outputs": [
        {
          "output_type": "stream",
          "name": "stdout",
          "text": [
            "0.808695652173913\n"
          ]
        }
      ]
    },
    {
      "cell_type": "markdown",
      "source": [
        "## Precisão"
      ],
      "metadata": {
        "id": "heOBb2v79ClL"
      }
    },
    {
      "cell_type": "code",
      "source": [
        "from sklearn.metrics import precision_score"
      ],
      "metadata": {
        "id": "ik4UYScJ9GkG"
      },
      "execution_count": null,
      "outputs": []
    },
    {
      "cell_type": "code",
      "source": [
        "print(precision_score(y_teste, predito_knn))"
      ],
      "metadata": {
        "colab": {
          "base_uri": "https://localhost:8080/"
        },
        "id": "wdL-Z1Br9G4w",
        "outputId": "e8d43490-b635-4cd9-af47-90fdfdc6ae8c"
      },
      "execution_count": null,
      "outputs": [
        {
          "output_type": "stream",
          "name": "stdout",
          "text": [
            "0.7975232198142415\n"
          ]
        }
      ]
    },
    {
      "cell_type": "code",
      "source": [
        "print(precision_score(y_teste, predito_Bnb))"
      ],
      "metadata": {
        "colab": {
          "base_uri": "https://localhost:8080/"
        },
        "id": "aF4yI-OH9HHg",
        "outputId": "d6665825-4dc7-4e93-c2e4-833cb88c709f"
      },
      "execution_count": null,
      "outputs": [
        {
          "output_type": "stream",
          "name": "stdout",
          "text": [
            "0.730400451212634\n"
          ]
        }
      ]
    },
    {
      "cell_type": "code",
      "source": [
        "print(precision_score(y_teste, predito_ArvoreDecisao))"
      ],
      "metadata": {
        "colab": {
          "base_uri": "https://localhost:8080/"
        },
        "id": "BPOw4h069Ha0",
        "outputId": "e8695173-8ad0-406d-f288-2f3ccf43b226"
      },
      "execution_count": null,
      "outputs": [
        {
          "output_type": "stream",
          "name": "stdout",
          "text": [
            "0.7981012658227848\n"
          ]
        }
      ]
    },
    {
      "cell_type": "markdown",
      "source": [
        "## Recall"
      ],
      "metadata": {
        "id": "-6k4PObt9XNp"
      }
    },
    {
      "cell_type": "code",
      "source": [
        "from sklearn.metrics import recall_score"
      ],
      "metadata": {
        "id": "ZtAHXa-T-Y3y"
      },
      "execution_count": null,
      "outputs": []
    },
    {
      "cell_type": "code",
      "source": [
        "print(recall_score(y_teste, predito_knn))"
      ],
      "metadata": {
        "colab": {
          "base_uri": "https://localhost:8080/"
        },
        "id": "qKCM-Znf-Yxq",
        "outputId": "f072907f-21f7-4ff7-99eb-f7d44dc52a15"
      },
      "execution_count": null,
      "outputs": [
        {
          "output_type": "stream",
          "name": "stdout",
          "text": [
            "0.8385416666666666\n"
          ]
        }
      ]
    },
    {
      "cell_type": "code",
      "source": [
        "print(recall_score(y_teste, predito_Bnb))"
      ],
      "metadata": {
        "colab": {
          "base_uri": "https://localhost:8080/"
        },
        "id": "_nc0grGV-Yr2",
        "outputId": "bf83b324-b700-43de-ff3e-e4b56654b378"
      },
      "execution_count": null,
      "outputs": [
        {
          "output_type": "stream",
          "name": "stdout",
          "text": [
            "0.8430989583333334\n"
          ]
        }
      ]
    },
    {
      "cell_type": "code",
      "source": [
        "print(recall_score(y_teste, predito_ArvoreDecisao))"
      ],
      "metadata": {
        "colab": {
          "base_uri": "https://localhost:8080/"
        },
        "id": "89Gk-W8B-Ym0",
        "outputId": "79827c19-2065-4209-dcb3-f4cddeb361f7"
      },
      "execution_count": null,
      "outputs": [
        {
          "output_type": "stream",
          "name": "stdout",
          "text": [
            "0.8209635416666666\n"
          ]
        }
      ]
    }
  ]
}